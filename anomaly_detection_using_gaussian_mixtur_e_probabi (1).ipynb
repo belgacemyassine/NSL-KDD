{
  "cells": [
    {
      "cell_type": "code",
      "source": [],
      "metadata": {
        "id": "4TUr1afevbq7"
      },
      "id": "4TUr1afevbq7",
      "execution_count": null,
      "outputs": []
    },
    {
      "cell_type": "code",
      "source": [
        "from google.colab import drive\n",
        "drive.mount('/content/drive')"
      ],
      "metadata": {
        "colab": {
          "base_uri": "https://localhost:8080/"
        },
        "id": "iivTAyCmZXed",
        "outputId": "3e3f9fb7-97bb-466a-e37f-34324445e900"
      },
      "id": "iivTAyCmZXed",
      "execution_count": null,
      "outputs": [
        {
          "output_type": "stream",
          "name": "stdout",
          "text": [
            "Mounted at /content/drive\n"
          ]
        }
      ]
    },
    {
      "cell_type": "markdown",
      "id": "ea6e7207",
      "metadata": {
        "papermill": {
          "duration": 0.037822,
          "end_time": "2023-11-28T14:32:48.596501",
          "exception": false,
          "start_time": "2023-11-28T14:32:48.558679",
          "status": "completed"
        },
        "tags": [],
        "id": "ea6e7207"
      },
      "source": [
        "# Library Importation"
      ]
    },
    {
      "cell_type": "code",
      "execution_count": null,
      "id": "d0b4b331",
      "metadata": {
        "execution": {
          "iopub.execute_input": "2023-11-28T14:32:48.676179Z",
          "iopub.status.busy": "2023-11-28T14:32:48.675265Z",
          "iopub.status.idle": "2023-11-28T14:32:51.531653Z",
          "shell.execute_reply": "2023-11-28T14:32:51.529994Z"
        },
        "papermill": {
          "duration": 2.898945,
          "end_time": "2023-11-28T14:32:51.535408",
          "exception": false,
          "start_time": "2023-11-28T14:32:48.636463",
          "status": "completed"
        },
        "tags": [],
        "id": "d0b4b331"
      },
      "outputs": [],
      "source": [
        "import pandas as pd\n",
        "import warnings\n",
        "from sklearn.preprocessing import normalize\n",
        "import numpy as np\n",
        "import matplotlib.pyplot as plt\n",
        "from sklearn.decomposition import PCA\n",
        "from sklearn.mixture import GaussianMixture\n",
        "import scipy.stats\n",
        "from scipy.stats import norm\n",
        "from tqdm import tqdm\n",
        "from sklearn.cluster import KMeans\n",
        "from sklearn.svm import SVC\n",
        "from sklearn import tree\n",
        "from sklearn.neural_network import MLPClassifier\n",
        "from sklearn.metrics import f1_score\n",
        "\n",
        "warnings.filterwarnings('ignore')"
      ]
    },
    {
      "cell_type": "markdown",
      "id": "14f96bc3",
      "metadata": {
        "papermill": {
          "duration": 0.039021,
          "end_time": "2023-11-28T14:32:51.620012",
          "exception": false,
          "start_time": "2023-11-28T14:32:51.580991",
          "status": "completed"
        },
        "tags": [],
        "id": "14f96bc3"
      },
      "source": [
        "# Create Datasets Transformers"
      ]
    },
    {
      "cell_type": "markdown",
      "id": "1544b2f0",
      "metadata": {
        "papermill": {
          "duration": 0.04019,
          "end_time": "2023-11-28T14:32:51.790215",
          "exception": false,
          "start_time": "2023-11-28T14:32:51.750025",
          "status": "completed"
        },
        "tags": [],
        "id": "1544b2f0"
      },
      "source": [
        "## Import Data"
      ]
    },
    {
      "cell_type": "code",
      "execution_count": null,
      "id": "192b5005",
      "metadata": {
        "execution": {
          "iopub.execute_input": "2023-11-28T14:32:51.872479Z",
          "iopub.status.busy": "2023-11-28T14:32:51.871489Z",
          "iopub.status.idle": "2023-11-28T14:32:51.884207Z",
          "shell.execute_reply": "2023-11-28T14:32:51.882735Z"
        },
        "papermill": {
          "duration": 0.059067,
          "end_time": "2023-11-28T14:32:51.887171",
          "exception": false,
          "start_time": "2023-11-28T14:32:51.828104",
          "status": "completed"
        },
        "tags": [],
        "id": "192b5005"
      },
      "outputs": [],
      "source": [
        "def raw_data_filter(data):\n",
        "    columns = (['duration'\n",
        "    ,'protocol_type'\n",
        "    ,'service'\n",
        "    ,'flag'\n",
        "    ,'src_bytes'\n",
        "    ,'dst_bytes'\n",
        "    ,'land'\n",
        "    ,'wrong_fragment'\n",
        "    ,'urgent'\n",
        "    ,'hot'\n",
        "    ,'num_failed_logins'\n",
        "    ,'logged_in'\n",
        "    ,'num_compromised'\n",
        "    ,'root_shell'\n",
        "    ,'su_attempted'\n",
        "    ,'num_root'\n",
        "    ,'num_file_creations'\n",
        "    ,'num_shells'\n",
        "    ,'num_access_files'\n",
        "    ,'num_outbound_cmds'\n",
        "    ,'is_host_login'\n",
        "    ,'is_guest_login'\n",
        "    ,'count'\n",
        "    ,'srv_count'\n",
        "    ,'serror_rate'\n",
        "    ,'srv_serror_rate'\n",
        "    ,'rerror_rate'\n",
        "    ,'srv_rerror_rate'\n",
        "    ,'same_srv_rate'\n",
        "    ,'diff_srv_rate'\n",
        "    ,'srv_diff_host_rate'\n",
        "    ,'dst_host_count'\n",
        "    ,'dst_host_srv_count'\n",
        "    ,'dst_host_same_srv_rate'\n",
        "    ,'dst_host_diff_srv_rate'\n",
        "    ,'dst_host_same_src_port_rate'\n",
        "    ,'dst_host_srv_diff_host_rate'\n",
        "    ,'dst_host_serror_rate'\n",
        "    ,'dst_host_srv_serror_rate'\n",
        "    ,'dst_host_rerror_rate'\n",
        "    ,'dst_host_srv_rerror_rate'\n",
        "    ,'attack'\n",
        "    ,'level'])\n",
        "\n",
        "    data.columns = columns\n",
        "    selected_columns = ([\n",
        "    'service',\n",
        "    'flag',\n",
        "    'src_bytes'\n",
        "    ,'dst_bytes'\n",
        "    ,'urgent'\n",
        "    ,'num_failed_logins'\n",
        "    ,'num_compromised'\n",
        "    ,'root_shell'\n",
        "    ,'su_attempted'\n",
        "    ,'num_root'\n",
        "    ,'num_file_creations'\n",
        "    ,'num_shells'\n",
        "    ,'num_access_files'\n",
        "    ,'is_host_login'\n",
        "    ,'is_guest_login'\n",
        "    ,'num_outbound_cmds'\n",
        "    ,'wrong_fragment'\n",
        "    ,'level',\n",
        "    ])\n",
        "    data.drop(columns=selected_columns, inplace=True)\n",
        "    data = data[data['protocol_type'] == 'tcp']\n",
        "    data.drop(columns=['protocol_type'], inplace=True, axis =1)\n",
        "\n",
        "\n",
        "    data['attack'] = data.attack.map(lambda a: 0 if a == 'normal' else 1)\n",
        "    return data"
      ]
    },
    {
      "cell_type": "code",
      "execution_count": null,
      "id": "4b80c191",
      "metadata": {
        "execution": {
          "iopub.execute_input": "2023-11-28T14:32:51.976459Z",
          "iopub.status.busy": "2023-11-28T14:32:51.975657Z",
          "iopub.status.idle": "2023-11-28T14:32:53.094462Z",
          "shell.execute_reply": "2023-11-28T14:32:53.093222Z"
        },
        "papermill": {
          "duration": 1.166039,
          "end_time": "2023-11-28T14:32:53.097477",
          "exception": false,
          "start_time": "2023-11-28T14:32:51.931438",
          "status": "completed"
        },
        "tags": [],
        "id": "4b80c191"
      },
      "outputs": [],
      "source": [
        "# import raw data\n",
        "path1 = \"/content/drive/MyDrive/Dataset/KDDTrain+.txt\"\n",
        "d_raw_train = pd.read_csv(path1, header=None)\n",
        "path2 = \"/content/drive/MyDrive/Dataset/KDDTest+.txt\"\n",
        "d_raw_test = pd.read_csv(path2, header=None)\n"
      ]
    },
    {
      "cell_type": "markdown",
      "id": "f9acf5d5",
      "metadata": {
        "papermill": {
          "duration": 0.037729,
          "end_time": "2023-11-28T14:32:53.174588",
          "exception": false,
          "start_time": "2023-11-28T14:32:53.136859",
          "status": "completed"
        },
        "tags": [],
        "id": "f9acf5d5"
      },
      "source": [
        "## Normalization"
      ]
    },
    {
      "cell_type": "code",
      "execution_count": null,
      "id": "b3a76038",
      "metadata": {
        "execution": {
          "iopub.execute_input": "2023-11-28T14:32:53.253250Z",
          "iopub.status.busy": "2023-11-28T14:32:53.252817Z",
          "iopub.status.idle": "2023-11-28T14:32:53.259630Z",
          "shell.execute_reply": "2023-11-28T14:32:53.258249Z"
        },
        "papermill": {
          "duration": 0.049437,
          "end_time": "2023-11-28T14:32:53.262393",
          "exception": false,
          "start_time": "2023-11-28T14:32:53.212956",
          "status": "completed"
        },
        "tags": [],
        "id": "b3a76038"
      },
      "outputs": [],
      "source": [
        "def normalizing(data):\n",
        "    for idx in range(len(data.columns)):\n",
        "        if data.nunique()[idx] != 2:\n",
        "            data.iloc[:,idx] = normalize([np.array(data.iloc[:,idx])]).reshape(-1)\n",
        "    return data\n"
      ]
    },
    {
      "cell_type": "code",
      "execution_count": null,
      "id": "85fbe6ba",
      "metadata": {
        "execution": {
          "iopub.execute_input": "2023-11-28T14:32:53.342659Z",
          "iopub.status.busy": "2023-11-28T14:32:53.342228Z",
          "iopub.status.idle": "2023-11-28T14:32:53.347693Z",
          "shell.execute_reply": "2023-11-28T14:32:53.346350Z"
        },
        "papermill": {
          "duration": 0.048893,
          "end_time": "2023-11-28T14:32:53.350290",
          "exception": false,
          "start_time": "2023-11-28T14:32:53.301397",
          "status": "completed"
        },
        "tags": [],
        "id": "85fbe6ba"
      },
      "outputs": [],
      "source": [
        "# this cell is for test:\n",
        "#  d_raw_train = normalizing(d_raw_train)\n",
        "#  d_raw_train.head()"
      ]
    },
    {
      "cell_type": "markdown",
      "id": "d901d2e3",
      "metadata": {
        "papermill": {
          "duration": 0.037146,
          "end_time": "2023-11-28T14:32:53.425039",
          "exception": false,
          "start_time": "2023-11-28T14:32:53.387893",
          "status": "completed"
        },
        "tags": [],
        "id": "d901d2e3"
      },
      "source": [
        "## Principal Component Analysis"
      ]
    },
    {
      "cell_type": "code",
      "execution_count": null,
      "id": "ddf6bf1b",
      "metadata": {
        "execution": {
          "iopub.execute_input": "2023-11-28T14:32:53.502447Z",
          "iopub.status.busy": "2023-11-28T14:32:53.501982Z",
          "iopub.status.idle": "2023-11-28T14:32:53.510280Z",
          "shell.execute_reply": "2023-11-28T14:32:53.508814Z"
        },
        "papermill": {
          "duration": 0.050734,
          "end_time": "2023-11-28T14:32:53.513035",
          "exception": false,
          "start_time": "2023-11-28T14:32:53.462301",
          "status": "completed"
        },
        "tags": [],
        "id": "ddf6bf1b"
      },
      "outputs": [],
      "source": [
        "def PCA_transformation(data, dim = None):\n",
        "    pca = PCA()\n",
        "    pca.fit(data)\n",
        "    cum_vars = np.cumsum(pca.explained_variance_ratio_)\n",
        "    for i in range(len(cum_vars)):\n",
        "        if cum_vars[i] == 0.999:\n",
        "            break\n",
        "    if dim:\n",
        "        pca = PCA(dim)\n",
        "        data = pca.fit_transform(data)\n",
        "        return pd.DataFrame(data)\n",
        "\n",
        "    pca = PCA(i)\n",
        "    data = pca.fit_transform(data)\n",
        "    return pd.DataFrame(data), i"
      ]
    },
    {
      "cell_type": "code",
      "execution_count": null,
      "id": "4222326a",
      "metadata": {
        "execution": {
          "iopub.execute_input": "2023-11-28T14:32:53.596389Z",
          "iopub.status.busy": "2023-11-28T14:32:53.595156Z",
          "iopub.status.idle": "2023-11-28T14:32:53.601246Z",
          "shell.execute_reply": "2023-11-28T14:32:53.599932Z"
        },
        "papermill": {
          "duration": 0.049071,
          "end_time": "2023-11-28T14:32:53.603786",
          "exception": false,
          "start_time": "2023-11-28T14:32:53.554715",
          "status": "completed"
        },
        "tags": [],
        "id": "4222326a"
      },
      "outputs": [],
      "source": [
        "# this cell is for test:\n",
        "#  d_raw_train = PCA_transformation(d_raw_train)\n",
        "#  d_raw_train.shape"
      ]
    },
    {
      "cell_type": "markdown",
      "id": "9c8b215e",
      "metadata": {
        "papermill": {
          "duration": 0.037848,
          "end_time": "2023-11-28T14:32:53.680415",
          "exception": false,
          "start_time": "2023-11-28T14:32:53.642567",
          "status": "completed"
        },
        "tags": [],
        "id": "9c8b215e"
      },
      "source": [
        "## Feature Gaussian Mixture Probability Mode l"
      ]
    },
    {
      "cell_type": "code",
      "execution_count": null,
      "id": "e11f6c16",
      "metadata": {
        "execution": {
          "iopub.execute_input": "2023-11-28T14:32:53.757065Z",
          "iopub.status.busy": "2023-11-28T14:32:53.756613Z",
          "iopub.status.idle": "2023-11-28T14:32:53.764228Z",
          "shell.execute_reply": "2023-11-28T14:32:53.762973Z"
        },
        "papermill": {
          "duration": 0.048994,
          "end_time": "2023-11-28T14:32:53.766925",
          "exception": false,
          "start_time": "2023-11-28T14:32:53.717931",
          "status": "completed"
        },
        "tags": [],
        "id": "e11f6c16"
      },
      "outputs": [],
      "source": [
        "def GMM_Row_Transform(data, values, threshold):\n",
        "    probs = []\n",
        "    for idx in range(len(data.columns)):\n",
        "        mean = np.array(data.iloc[:,idx]).mean()\n",
        "        std = np.array(data.iloc[:,idx]).std()\n",
        "\n",
        "        z_score = (values[idx] - mean)/std\n",
        "        prob = (1-norm.cdf(z_score))*100\n",
        "        probs.append(prob)\n",
        "    return probs"
      ]
    },
    {
      "cell_type": "code",
      "execution_count": null,
      "id": "0f4fe72a",
      "metadata": {
        "execution": {
          "iopub.execute_input": "2023-11-28T14:32:53.845677Z",
          "iopub.status.busy": "2023-11-28T14:32:53.845213Z",
          "iopub.status.idle": "2023-11-28T14:32:53.851647Z",
          "shell.execute_reply": "2023-11-28T14:32:53.850431Z"
        },
        "papermill": {
          "duration": 0.049351,
          "end_time": "2023-11-28T14:32:53.854640",
          "exception": false,
          "start_time": "2023-11-28T14:32:53.805289",
          "status": "completed"
        },
        "tags": [],
        "id": "0f4fe72a"
      },
      "outputs": [],
      "source": [
        "def GMM_Matrix_Transform(origin_data, data, threshold):\n",
        "    matrix = []\n",
        "    for i in tqdm(range(len(data))):\n",
        "        row = GMM_Row_Transform(origin_data, data.iloc[i,:], threshold)\n",
        "\n",
        "        matrix.append(row)\n",
        "    return matrix"
      ]
    },
    {
      "cell_type": "code",
      "execution_count": null,
      "id": "459e2f1d",
      "metadata": {
        "execution": {
          "iopub.execute_input": "2023-11-28T14:32:53.934384Z",
          "iopub.status.busy": "2023-11-28T14:32:53.933940Z",
          "iopub.status.idle": "2023-11-28T14:32:53.941614Z",
          "shell.execute_reply": "2023-11-28T14:32:53.940200Z"
        },
        "papermill": {
          "duration": 0.050833,
          "end_time": "2023-11-28T14:32:53.944179",
          "exception": false,
          "start_time": "2023-11-28T14:32:53.893346",
          "status": "completed"
        },
        "tags": [],
        "id": "459e2f1d"
      },
      "outputs": [],
      "source": [
        "def GMM_vote(data, values, threshold):\n",
        "    no = 0\n",
        "    for idx in range(len(data.columns)):\n",
        "        mean = np.array(data.iloc[:,idx]).mean()\n",
        "        std = np.array(data.iloc[:,idx]).std()\n",
        "\n",
        "        z_score = (values[idx] - mean)/std\n",
        "        prob = (1-norm.cdf(z_score))*100\n",
        "        if prob <= threshold:\n",
        "            no += 1\n",
        "    return no"
      ]
    },
    {
      "cell_type": "code",
      "execution_count": null,
      "id": "c2fde3a3",
      "metadata": {
        "execution": {
          "iopub.execute_input": "2023-11-28T14:32:54.021303Z",
          "iopub.status.busy": "2023-11-28T14:32:54.020833Z",
          "iopub.status.idle": "2023-11-28T14:32:54.025802Z",
          "shell.execute_reply": "2023-11-28T14:32:54.024471Z"
        },
        "papermill": {
          "duration": 0.046976,
          "end_time": "2023-11-28T14:32:54.028465",
          "exception": false,
          "start_time": "2023-11-28T14:32:53.981489",
          "status": "completed"
        },
        "tags": [],
        "id": "c2fde3a3"
      },
      "outputs": [],
      "source": [
        "# test GMM_vote with 70%:\n",
        "# values = d_raw_train.iloc[0,:]\n",
        "# GMM_vote(d_raw_train, values, 70)\n",
        "\n"
      ]
    },
    {
      "cell_type": "markdown",
      "id": "2f2023a6",
      "metadata": {
        "papermill": {
          "duration": 0.037374,
          "end_time": "2023-11-28T14:32:54.104986",
          "exception": false,
          "start_time": "2023-11-28T14:32:54.067612",
          "status": "completed"
        },
        "tags": [],
        "id": "2f2023a6"
      },
      "source": [
        "# Create 8 Datasets"
      ]
    },
    {
      "cell_type": "markdown",
      "id": "058b6017",
      "metadata": {
        "papermill": {
          "duration": 0.037734,
          "end_time": "2023-11-28T14:32:54.182322",
          "exception": false,
          "start_time": "2023-11-28T14:32:54.144588",
          "status": "completed"
        },
        "tags": [],
        "id": "058b6017"
      },
      "source": [
        "### d_raw"
      ]
    },
    {
      "cell_type": "code",
      "execution_count": null,
      "id": "06fafb52",
      "metadata": {
        "execution": {
          "iopub.execute_input": "2023-11-28T14:32:54.260202Z",
          "iopub.status.busy": "2023-11-28T14:32:54.259790Z",
          "iopub.status.idle": "2023-11-28T14:32:54.441895Z",
          "shell.execute_reply": "2023-11-28T14:32:54.440586Z"
        },
        "papermill": {
          "duration": 0.2239,
          "end_time": "2023-11-28T14:32:54.444670",
          "exception": false,
          "start_time": "2023-11-28T14:32:54.220770",
          "status": "completed"
        },
        "tags": [],
        "id": "06fafb52"
      },
      "outputs": [],
      "source": [
        "# filter raw data\n",
        "d_raw_train = raw_data_filter(d_raw_train)\n",
        "d_raw_test = raw_data_filter(d_raw_test)"
      ]
    },
    {
      "cell_type": "code",
      "execution_count": null,
      "id": "ad8dc40a",
      "metadata": {
        "execution": {
          "iopub.execute_input": "2023-11-28T14:32:54.522788Z",
          "iopub.status.busy": "2023-11-28T14:32:54.522373Z",
          "iopub.status.idle": "2023-11-28T14:32:54.536249Z",
          "shell.execute_reply": "2023-11-28T14:32:54.535266Z"
        },
        "papermill": {
          "duration": 0.055715,
          "end_time": "2023-11-28T14:32:54.538650",
          "exception": false,
          "start_time": "2023-11-28T14:32:54.482935",
          "status": "completed"
        },
        "tags": [],
        "id": "ad8dc40a"
      },
      "outputs": [],
      "source": [
        "train_target = d_raw_train['attack']\n",
        "d_raw_train.drop('attack',inplace=True,axis=1)\n",
        "\n",
        "test_target = d_raw_test['attack']\n",
        "d_raw_test.drop('attack',inplace=True,axis=1)"
      ]
    },
    {
      "cell_type": "code",
      "execution_count": null,
      "id": "7f5ac47c",
      "metadata": {
        "execution": {
          "iopub.execute_input": "2023-11-28T14:32:54.615764Z",
          "iopub.status.busy": "2023-11-28T14:32:54.615348Z",
          "iopub.status.idle": "2023-11-28T14:32:54.667451Z",
          "shell.execute_reply": "2023-11-28T14:32:54.666144Z"
        },
        "papermill": {
          "duration": 0.093956,
          "end_time": "2023-11-28T14:32:54.670189",
          "exception": false,
          "start_time": "2023-11-28T14:32:54.576233",
          "status": "completed"
        },
        "tags": [],
        "id": "7f5ac47c",
        "colab": {
          "base_uri": "https://localhost:8080/",
          "height": 255
        },
        "outputId": "d0012e84-ed64-4036-db83-686b0ede3584"
      },
      "outputs": [
        {
          "output_type": "execute_result",
          "data": {
            "text/plain": [
              "    duration  land  hot  logged_in  count  srv_count  serror_rate  \\\n",
              "0          0     0    0          0      2          2          0.0   \n",
              "3          0     0    0          1      5          5          0.2   \n",
              "4          0     0    0          1     30         32          0.0   \n",
              "12         0     0    0          1      3          7          0.0   \n",
              "16         0     0    0          1      8          9          0.0   \n",
              "\n",
              "    srv_serror_rate  rerror_rate  srv_rerror_rate  ...  dst_host_count  \\\n",
              "0              0.00          0.0              0.0  ...             150   \n",
              "3              0.20          0.0              0.0  ...              30   \n",
              "4              0.00          0.0              0.0  ...             255   \n",
              "12             0.00          0.0              0.0  ...               8   \n",
              "16             0.11          0.0              0.0  ...              91   \n",
              "\n",
              "    dst_host_srv_count  dst_host_same_srv_rate  dst_host_diff_srv_rate  \\\n",
              "0                   25                    0.17                    0.03   \n",
              "3                  255                    1.00                    0.00   \n",
              "4                  255                    1.00                    0.00   \n",
              "12                 219                    1.00                    0.00   \n",
              "16                 255                    1.00                    0.00   \n",
              "\n",
              "    dst_host_same_src_port_rate  dst_host_srv_diff_host_rate  \\\n",
              "0                          0.17                         0.00   \n",
              "3                          0.03                         0.04   \n",
              "4                          0.00                         0.00   \n",
              "12                         0.12                         0.03   \n",
              "16                         0.01                         0.02   \n",
              "\n",
              "    dst_host_serror_rate  dst_host_srv_serror_rate  dst_host_rerror_rate  \\\n",
              "0                   0.00                      0.00                  0.05   \n",
              "3                   0.03                      0.01                  0.00   \n",
              "4                   0.00                      0.00                  0.00   \n",
              "12                  0.00                      0.00                  0.00   \n",
              "16                  0.00                      0.00                  0.00   \n",
              "\n",
              "    dst_host_srv_rerror_rate  \n",
              "0                       0.00  \n",
              "3                       0.01  \n",
              "4                       0.00  \n",
              "12                      0.00  \n",
              "16                      0.00  \n",
              "\n",
              "[5 rows x 23 columns]"
            ],
            "text/html": [
              "\n",
              "  <div id=\"df-25736f4e-1383-426e-9828-11216d09d095\" class=\"colab-df-container\">\n",
              "    <div>\n",
              "<style scoped>\n",
              "    .dataframe tbody tr th:only-of-type {\n",
              "        vertical-align: middle;\n",
              "    }\n",
              "\n",
              "    .dataframe tbody tr th {\n",
              "        vertical-align: top;\n",
              "    }\n",
              "\n",
              "    .dataframe thead th {\n",
              "        text-align: right;\n",
              "    }\n",
              "</style>\n",
              "<table border=\"1\" class=\"dataframe\">\n",
              "  <thead>\n",
              "    <tr style=\"text-align: right;\">\n",
              "      <th></th>\n",
              "      <th>duration</th>\n",
              "      <th>land</th>\n",
              "      <th>hot</th>\n",
              "      <th>logged_in</th>\n",
              "      <th>count</th>\n",
              "      <th>srv_count</th>\n",
              "      <th>serror_rate</th>\n",
              "      <th>srv_serror_rate</th>\n",
              "      <th>rerror_rate</th>\n",
              "      <th>srv_rerror_rate</th>\n",
              "      <th>...</th>\n",
              "      <th>dst_host_count</th>\n",
              "      <th>dst_host_srv_count</th>\n",
              "      <th>dst_host_same_srv_rate</th>\n",
              "      <th>dst_host_diff_srv_rate</th>\n",
              "      <th>dst_host_same_src_port_rate</th>\n",
              "      <th>dst_host_srv_diff_host_rate</th>\n",
              "      <th>dst_host_serror_rate</th>\n",
              "      <th>dst_host_srv_serror_rate</th>\n",
              "      <th>dst_host_rerror_rate</th>\n",
              "      <th>dst_host_srv_rerror_rate</th>\n",
              "    </tr>\n",
              "  </thead>\n",
              "  <tbody>\n",
              "    <tr>\n",
              "      <th>0</th>\n",
              "      <td>0</td>\n",
              "      <td>0</td>\n",
              "      <td>0</td>\n",
              "      <td>0</td>\n",
              "      <td>2</td>\n",
              "      <td>2</td>\n",
              "      <td>0.0</td>\n",
              "      <td>0.00</td>\n",
              "      <td>0.0</td>\n",
              "      <td>0.0</td>\n",
              "      <td>...</td>\n",
              "      <td>150</td>\n",
              "      <td>25</td>\n",
              "      <td>0.17</td>\n",
              "      <td>0.03</td>\n",
              "      <td>0.17</td>\n",
              "      <td>0.00</td>\n",
              "      <td>0.00</td>\n",
              "      <td>0.00</td>\n",
              "      <td>0.05</td>\n",
              "      <td>0.00</td>\n",
              "    </tr>\n",
              "    <tr>\n",
              "      <th>3</th>\n",
              "      <td>0</td>\n",
              "      <td>0</td>\n",
              "      <td>0</td>\n",
              "      <td>1</td>\n",
              "      <td>5</td>\n",
              "      <td>5</td>\n",
              "      <td>0.2</td>\n",
              "      <td>0.20</td>\n",
              "      <td>0.0</td>\n",
              "      <td>0.0</td>\n",
              "      <td>...</td>\n",
              "      <td>30</td>\n",
              "      <td>255</td>\n",
              "      <td>1.00</td>\n",
              "      <td>0.00</td>\n",
              "      <td>0.03</td>\n",
              "      <td>0.04</td>\n",
              "      <td>0.03</td>\n",
              "      <td>0.01</td>\n",
              "      <td>0.00</td>\n",
              "      <td>0.01</td>\n",
              "    </tr>\n",
              "    <tr>\n",
              "      <th>4</th>\n",
              "      <td>0</td>\n",
              "      <td>0</td>\n",
              "      <td>0</td>\n",
              "      <td>1</td>\n",
              "      <td>30</td>\n",
              "      <td>32</td>\n",
              "      <td>0.0</td>\n",
              "      <td>0.00</td>\n",
              "      <td>0.0</td>\n",
              "      <td>0.0</td>\n",
              "      <td>...</td>\n",
              "      <td>255</td>\n",
              "      <td>255</td>\n",
              "      <td>1.00</td>\n",
              "      <td>0.00</td>\n",
              "      <td>0.00</td>\n",
              "      <td>0.00</td>\n",
              "      <td>0.00</td>\n",
              "      <td>0.00</td>\n",
              "      <td>0.00</td>\n",
              "      <td>0.00</td>\n",
              "    </tr>\n",
              "    <tr>\n",
              "      <th>12</th>\n",
              "      <td>0</td>\n",
              "      <td>0</td>\n",
              "      <td>0</td>\n",
              "      <td>1</td>\n",
              "      <td>3</td>\n",
              "      <td>7</td>\n",
              "      <td>0.0</td>\n",
              "      <td>0.00</td>\n",
              "      <td>0.0</td>\n",
              "      <td>0.0</td>\n",
              "      <td>...</td>\n",
              "      <td>8</td>\n",
              "      <td>219</td>\n",
              "      <td>1.00</td>\n",
              "      <td>0.00</td>\n",
              "      <td>0.12</td>\n",
              "      <td>0.03</td>\n",
              "      <td>0.00</td>\n",
              "      <td>0.00</td>\n",
              "      <td>0.00</td>\n",
              "      <td>0.00</td>\n",
              "    </tr>\n",
              "    <tr>\n",
              "      <th>16</th>\n",
              "      <td>0</td>\n",
              "      <td>0</td>\n",
              "      <td>0</td>\n",
              "      <td>1</td>\n",
              "      <td>8</td>\n",
              "      <td>9</td>\n",
              "      <td>0.0</td>\n",
              "      <td>0.11</td>\n",
              "      <td>0.0</td>\n",
              "      <td>0.0</td>\n",
              "      <td>...</td>\n",
              "      <td>91</td>\n",
              "      <td>255</td>\n",
              "      <td>1.00</td>\n",
              "      <td>0.00</td>\n",
              "      <td>0.01</td>\n",
              "      <td>0.02</td>\n",
              "      <td>0.00</td>\n",
              "      <td>0.00</td>\n",
              "      <td>0.00</td>\n",
              "      <td>0.00</td>\n",
              "    </tr>\n",
              "  </tbody>\n",
              "</table>\n",
              "<p>5 rows × 23 columns</p>\n",
              "</div>\n",
              "    <div class=\"colab-df-buttons\">\n",
              "\n",
              "  <div class=\"colab-df-container\">\n",
              "    <button class=\"colab-df-convert\" onclick=\"convertToInteractive('df-25736f4e-1383-426e-9828-11216d09d095')\"\n",
              "            title=\"Convert this dataframe to an interactive table.\"\n",
              "            style=\"display:none;\">\n",
              "\n",
              "  <svg xmlns=\"http://www.w3.org/2000/svg\" height=\"24px\" viewBox=\"0 -960 960 960\">\n",
              "    <path d=\"M120-120v-720h720v720H120Zm60-500h600v-160H180v160Zm220 220h160v-160H400v160Zm0 220h160v-160H400v160ZM180-400h160v-160H180v160Zm440 0h160v-160H620v160ZM180-180h160v-160H180v160Zm440 0h160v-160H620v160Z\"/>\n",
              "  </svg>\n",
              "    </button>\n",
              "\n",
              "  <style>\n",
              "    .colab-df-container {\n",
              "      display:flex;\n",
              "      gap: 12px;\n",
              "    }\n",
              "\n",
              "    .colab-df-convert {\n",
              "      background-color: #E8F0FE;\n",
              "      border: none;\n",
              "      border-radius: 50%;\n",
              "      cursor: pointer;\n",
              "      display: none;\n",
              "      fill: #1967D2;\n",
              "      height: 32px;\n",
              "      padding: 0 0 0 0;\n",
              "      width: 32px;\n",
              "    }\n",
              "\n",
              "    .colab-df-convert:hover {\n",
              "      background-color: #E2EBFA;\n",
              "      box-shadow: 0px 1px 2px rgba(60, 64, 67, 0.3), 0px 1px 3px 1px rgba(60, 64, 67, 0.15);\n",
              "      fill: #174EA6;\n",
              "    }\n",
              "\n",
              "    .colab-df-buttons div {\n",
              "      margin-bottom: 4px;\n",
              "    }\n",
              "\n",
              "    [theme=dark] .colab-df-convert {\n",
              "      background-color: #3B4455;\n",
              "      fill: #D2E3FC;\n",
              "    }\n",
              "\n",
              "    [theme=dark] .colab-df-convert:hover {\n",
              "      background-color: #434B5C;\n",
              "      box-shadow: 0px 1px 3px 1px rgba(0, 0, 0, 0.15);\n",
              "      filter: drop-shadow(0px 1px 2px rgba(0, 0, 0, 0.3));\n",
              "      fill: #FFFFFF;\n",
              "    }\n",
              "  </style>\n",
              "\n",
              "    <script>\n",
              "      const buttonEl =\n",
              "        document.querySelector('#df-25736f4e-1383-426e-9828-11216d09d095 button.colab-df-convert');\n",
              "      buttonEl.style.display =\n",
              "        google.colab.kernel.accessAllowed ? 'block' : 'none';\n",
              "\n",
              "      async function convertToInteractive(key) {\n",
              "        const element = document.querySelector('#df-25736f4e-1383-426e-9828-11216d09d095');\n",
              "        const dataTable =\n",
              "          await google.colab.kernel.invokeFunction('convertToInteractive',\n",
              "                                                    [key], {});\n",
              "        if (!dataTable) return;\n",
              "\n",
              "        const docLinkHtml = 'Like what you see? Visit the ' +\n",
              "          '<a target=\"_blank\" href=https://colab.research.google.com/notebooks/data_table.ipynb>data table notebook</a>'\n",
              "          + ' to learn more about interactive tables.';\n",
              "        element.innerHTML = '';\n",
              "        dataTable['output_type'] = 'display_data';\n",
              "        await google.colab.output.renderOutput(dataTable, element);\n",
              "        const docLink = document.createElement('div');\n",
              "        docLink.innerHTML = docLinkHtml;\n",
              "        element.appendChild(docLink);\n",
              "      }\n",
              "    </script>\n",
              "  </div>\n",
              "\n",
              "\n",
              "<div id=\"df-3b405726-f5a6-476f-90ca-16562bf3b551\">\n",
              "  <button class=\"colab-df-quickchart\" onclick=\"quickchart('df-3b405726-f5a6-476f-90ca-16562bf3b551')\"\n",
              "            title=\"Suggest charts\"\n",
              "            style=\"display:none;\">\n",
              "\n",
              "<svg xmlns=\"http://www.w3.org/2000/svg\" height=\"24px\"viewBox=\"0 0 24 24\"\n",
              "     width=\"24px\">\n",
              "    <g>\n",
              "        <path d=\"M19 3H5c-1.1 0-2 .9-2 2v14c0 1.1.9 2 2 2h14c1.1 0 2-.9 2-2V5c0-1.1-.9-2-2-2zM9 17H7v-7h2v7zm4 0h-2V7h2v10zm4 0h-2v-4h2v4z\"/>\n",
              "    </g>\n",
              "</svg>\n",
              "  </button>\n",
              "\n",
              "<style>\n",
              "  .colab-df-quickchart {\n",
              "      --bg-color: #E8F0FE;\n",
              "      --fill-color: #1967D2;\n",
              "      --hover-bg-color: #E2EBFA;\n",
              "      --hover-fill-color: #174EA6;\n",
              "      --disabled-fill-color: #AAA;\n",
              "      --disabled-bg-color: #DDD;\n",
              "  }\n",
              "\n",
              "  [theme=dark] .colab-df-quickchart {\n",
              "      --bg-color: #3B4455;\n",
              "      --fill-color: #D2E3FC;\n",
              "      --hover-bg-color: #434B5C;\n",
              "      --hover-fill-color: #FFFFFF;\n",
              "      --disabled-bg-color: #3B4455;\n",
              "      --disabled-fill-color: #666;\n",
              "  }\n",
              "\n",
              "  .colab-df-quickchart {\n",
              "    background-color: var(--bg-color);\n",
              "    border: none;\n",
              "    border-radius: 50%;\n",
              "    cursor: pointer;\n",
              "    display: none;\n",
              "    fill: var(--fill-color);\n",
              "    height: 32px;\n",
              "    padding: 0;\n",
              "    width: 32px;\n",
              "  }\n",
              "\n",
              "  .colab-df-quickchart:hover {\n",
              "    background-color: var(--hover-bg-color);\n",
              "    box-shadow: 0 1px 2px rgba(60, 64, 67, 0.3), 0 1px 3px 1px rgba(60, 64, 67, 0.15);\n",
              "    fill: var(--button-hover-fill-color);\n",
              "  }\n",
              "\n",
              "  .colab-df-quickchart-complete:disabled,\n",
              "  .colab-df-quickchart-complete:disabled:hover {\n",
              "    background-color: var(--disabled-bg-color);\n",
              "    fill: var(--disabled-fill-color);\n",
              "    box-shadow: none;\n",
              "  }\n",
              "\n",
              "  .colab-df-spinner {\n",
              "    border: 2px solid var(--fill-color);\n",
              "    border-color: transparent;\n",
              "    border-bottom-color: var(--fill-color);\n",
              "    animation:\n",
              "      spin 1s steps(1) infinite;\n",
              "  }\n",
              "\n",
              "  @keyframes spin {\n",
              "    0% {\n",
              "      border-color: transparent;\n",
              "      border-bottom-color: var(--fill-color);\n",
              "      border-left-color: var(--fill-color);\n",
              "    }\n",
              "    20% {\n",
              "      border-color: transparent;\n",
              "      border-left-color: var(--fill-color);\n",
              "      border-top-color: var(--fill-color);\n",
              "    }\n",
              "    30% {\n",
              "      border-color: transparent;\n",
              "      border-left-color: var(--fill-color);\n",
              "      border-top-color: var(--fill-color);\n",
              "      border-right-color: var(--fill-color);\n",
              "    }\n",
              "    40% {\n",
              "      border-color: transparent;\n",
              "      border-right-color: var(--fill-color);\n",
              "      border-top-color: var(--fill-color);\n",
              "    }\n",
              "    60% {\n",
              "      border-color: transparent;\n",
              "      border-right-color: var(--fill-color);\n",
              "    }\n",
              "    80% {\n",
              "      border-color: transparent;\n",
              "      border-right-color: var(--fill-color);\n",
              "      border-bottom-color: var(--fill-color);\n",
              "    }\n",
              "    90% {\n",
              "      border-color: transparent;\n",
              "      border-bottom-color: var(--fill-color);\n",
              "    }\n",
              "  }\n",
              "</style>\n",
              "\n",
              "  <script>\n",
              "    async function quickchart(key) {\n",
              "      const quickchartButtonEl =\n",
              "        document.querySelector('#' + key + ' button');\n",
              "      quickchartButtonEl.disabled = true;  // To prevent multiple clicks.\n",
              "      quickchartButtonEl.classList.add('colab-df-spinner');\n",
              "      try {\n",
              "        const charts = await google.colab.kernel.invokeFunction(\n",
              "            'suggestCharts', [key], {});\n",
              "      } catch (error) {\n",
              "        console.error('Error during call to suggestCharts:', error);\n",
              "      }\n",
              "      quickchartButtonEl.classList.remove('colab-df-spinner');\n",
              "      quickchartButtonEl.classList.add('colab-df-quickchart-complete');\n",
              "    }\n",
              "    (() => {\n",
              "      let quickchartButtonEl =\n",
              "        document.querySelector('#df-3b405726-f5a6-476f-90ca-16562bf3b551 button');\n",
              "      quickchartButtonEl.style.display =\n",
              "        google.colab.kernel.accessAllowed ? 'block' : 'none';\n",
              "    })();\n",
              "  </script>\n",
              "</div>\n",
              "    </div>\n",
              "  </div>\n"
            ]
          },
          "metadata": {},
          "execution_count": 15
        }
      ],
      "source": [
        "d_raw_train['attack'] = train_target\n",
        "d_raw_train_normal = d_raw_train[d_raw_train['attack'] == 0]\n",
        "d_raw_train_normal.drop(['attack'], inplace=True, axis = 1)\n",
        "d_raw_train.drop(['attack'], inplace=True, axis = 1)\n",
        "d_raw_train_normal.head()"
      ]
    },
    {
      "cell_type": "markdown",
      "id": "e2e15aff",
      "metadata": {
        "papermill": {
          "duration": 0.037673,
          "end_time": "2023-11-28T14:32:54.746530",
          "exception": false,
          "start_time": "2023-11-28T14:32:54.708857",
          "status": "completed"
        },
        "tags": [],
        "id": "e2e15aff"
      },
      "source": [
        "### d_raw_pca"
      ]
    },
    {
      "cell_type": "code",
      "execution_count": null,
      "id": "a18a487c",
      "metadata": {
        "execution": {
          "iopub.execute_input": "2023-11-28T14:32:54.825237Z",
          "iopub.status.busy": "2023-11-28T14:32:54.824421Z",
          "iopub.status.idle": "2023-11-28T14:32:55.152679Z",
          "shell.execute_reply": "2023-11-28T14:32:55.151027Z"
        },
        "papermill": {
          "duration": 0.372604,
          "end_time": "2023-11-28T14:32:55.157614",
          "exception": false,
          "start_time": "2023-11-28T14:32:54.785010",
          "status": "completed"
        },
        "tags": [],
        "id": "a18a487c"
      },
      "outputs": [],
      "source": [
        "d_raw_pca_train, dim = PCA_transformation(d_raw_train)\n",
        "d_raw_pca_test = PCA_transformation(d_raw_test, dim)"
      ]
    },
    {
      "cell_type": "markdown",
      "id": "b59b934f",
      "metadata": {
        "papermill": {
          "duration": 0.052678,
          "end_time": "2023-11-28T14:32:55.293415",
          "exception": false,
          "start_time": "2023-11-28T14:32:55.240737",
          "status": "completed"
        },
        "tags": [],
        "id": "b59b934f"
      },
      "source": [
        "### d_raw_norm"
      ]
    },
    {
      "cell_type": "code",
      "execution_count": null,
      "id": "15bf79a8",
      "metadata": {
        "execution": {
          "iopub.execute_input": "2023-11-28T14:32:55.374038Z",
          "iopub.status.busy": "2023-11-28T14:32:55.373582Z",
          "iopub.status.idle": "2023-11-28T14:32:56.197281Z",
          "shell.execute_reply": "2023-11-28T14:32:56.196286Z"
        },
        "papermill": {
          "duration": 0.867847,
          "end_time": "2023-11-28T14:32:56.200067",
          "exception": false,
          "start_time": "2023-11-28T14:32:55.332220",
          "status": "completed"
        },
        "tags": [],
        "id": "15bf79a8"
      },
      "outputs": [],
      "source": [
        "d_raw_norm_train = normalizing(d_raw_train)\n",
        "d_raw_norm_test = normalizing(d_raw_test)"
      ]
    },
    {
      "cell_type": "markdown",
      "id": "20e12cad",
      "metadata": {
        "papermill": {
          "duration": 0.037649,
          "end_time": "2023-11-28T14:32:56.275975",
          "exception": false,
          "start_time": "2023-11-28T14:32:56.238326",
          "status": "completed"
        },
        "tags": [],
        "id": "20e12cad"
      },
      "source": [
        "### d_raw_norm_pca"
      ]
    },
    {
      "cell_type": "code",
      "execution_count": null,
      "id": "722c12d5",
      "metadata": {
        "execution": {
          "iopub.execute_input": "2023-11-28T14:32:56.357076Z",
          "iopub.status.busy": "2023-11-28T14:32:56.356186Z",
          "iopub.status.idle": "2023-11-28T14:32:57.525355Z",
          "shell.execute_reply": "2023-11-28T14:32:57.523650Z"
        },
        "papermill": {
          "duration": 1.215469,
          "end_time": "2023-11-28T14:32:57.530719",
          "exception": false,
          "start_time": "2023-11-28T14:32:56.315250",
          "status": "completed"
        },
        "tags": [],
        "id": "722c12d5"
      },
      "outputs": [],
      "source": [
        "d_raw_norm_pca_train, dim = PCA_transformation(normalizing(d_raw_train))\n",
        "d_raw_norm_pca_test = PCA_transformation(normalizing(d_raw_test), dim)"
      ]
    },
    {
      "cell_type": "markdown",
      "id": "6c1a488b",
      "metadata": {
        "papermill": {
          "duration": 0.050653,
          "end_time": "2023-11-28T14:32:57.665956",
          "exception": false,
          "start_time": "2023-11-28T14:32:57.615303",
          "status": "completed"
        },
        "tags": [],
        "id": "6c1a488b"
      },
      "source": [
        "## d_raw_probs"
      ]
    },
    {
      "cell_type": "code",
      "execution_count": null,
      "id": "183fab58",
      "metadata": {
        "execution": {
          "iopub.execute_input": "2023-11-28T14:32:57.743883Z",
          "iopub.status.busy": "2023-11-28T14:32:57.743437Z",
          "iopub.status.idle": "2023-11-28T15:22:56.649878Z",
          "shell.execute_reply": "2023-11-28T15:22:56.648411Z"
        },
        "papermill": {
          "duration": 2998.949142,
          "end_time": "2023-11-28T15:22:56.653173",
          "exception": false,
          "start_time": "2023-11-28T14:32:57.704031",
          "status": "completed"
        },
        "tags": [],
        "id": "183fab58",
        "colab": {
          "base_uri": "https://localhost:8080/"
        },
        "outputId": "693891c1-d6bf-4614-adec-253dbb31ce28"
      },
      "outputs": [
        {
          "output_type": "stream",
          "name": "stderr",
          "text": [
            "100%|██████████| 102689/102689 [40:33<00:00, 42.19it/s]\n",
            "100%|██████████| 18880/18880 [07:23<00:00, 42.56it/s]\n"
          ]
        }
      ],
      "source": [
        "d_raw_probs_train = pd.DataFrame(GMM_Matrix_Transform(d_raw_train, d_raw_train, 50))\n",
        "d_raw_probs_test =  pd.DataFrame(GMM_Matrix_Transform(d_raw_train, d_raw_test, 50))\n"
      ]
    },
    {
      "cell_type": "code",
      "execution_count": null,
      "id": "2fee3093",
      "metadata": {
        "execution": {
          "iopub.execute_input": "2023-11-28T15:23:01.587985Z",
          "iopub.status.busy": "2023-11-28T15:23:01.587122Z",
          "iopub.status.idle": "2023-11-28T15:40:36.598604Z",
          "shell.execute_reply": "2023-11-28T15:40:36.597274Z"
        },
        "papermill": {
          "duration": 1057.52878,
          "end_time": "2023-11-28T15:40:36.601538",
          "exception": false,
          "start_time": "2023-11-28T15:22:59.072758",
          "status": "completed"
        },
        "tags": [],
        "id": "2fee3093",
        "colab": {
          "base_uri": "https://localhost:8080/"
        },
        "outputId": "f34ed9b4-3a7b-4232-d24f-8c635ff55b80"
      },
      "outputs": [
        {
          "output_type": "stream",
          "name": "stderr",
          "text": [
            "100%|██████████| 53600/53600 [16:09<00:00, 55.27it/s]\n"
          ]
        }
      ],
      "source": [
        "# normal\n",
        "d_raw_probs_train_normal = pd.DataFrame(GMM_Matrix_Transform(d_raw_train_normal, d_raw_train_normal, 50))"
      ]
    },
    {
      "cell_type": "markdown",
      "id": "667760dd",
      "metadata": {
        "papermill": {
          "duration": 3.438058,
          "end_time": "2023-11-28T15:40:43.534296",
          "exception": false,
          "start_time": "2023-11-28T15:40:40.096238",
          "status": "completed"
        },
        "tags": [],
        "id": "667760dd"
      },
      "source": [
        "## d_raw_pca_probs"
      ]
    },
    {
      "cell_type": "code",
      "execution_count": null,
      "id": "1d73a784",
      "metadata": {
        "execution": {
          "iopub.execute_input": "2023-11-28T15:40:50.314247Z",
          "iopub.status.busy": "2023-11-28T15:40:50.313776Z",
          "iopub.status.idle": "2023-11-28T16:27:58.672304Z",
          "shell.execute_reply": "2023-11-28T16:27:58.670477Z"
        },
        "papermill": {
          "duration": 2831.867807,
          "end_time": "2023-11-28T16:27:58.675518",
          "exception": false,
          "start_time": "2023-11-28T15:40:46.807711",
          "status": "completed"
        },
        "tags": [],
        "id": "1d73a784",
        "colab": {
          "base_uri": "https://localhost:8080/"
        },
        "outputId": "611f8d5b-0921-4bd9-e1fd-0e02ca5cf7e6"
      },
      "outputs": [
        {
          "output_type": "stream",
          "name": "stderr",
          "text": [
            "100%|██████████| 102689/102689 [37:19<00:00, 45.85it/s]\n",
            "100%|██████████| 18880/18880 [06:51<00:00, 45.93it/s]\n"
          ]
        }
      ],
      "source": [
        "d_raw_pca_probs_train, dim = PCA_transformation(d_raw_train)\n",
        "d_raw_pca_probs_train = pd.DataFrame(GMM_Matrix_Transform(d_raw_pca_probs_train, d_raw_pca_probs_train, 50))\n",
        "\n",
        "d_raw_pca_probs_test = PCA_transformation(d_raw_test, dim )\n",
        "d_raw_pca_probs_test = pd.DataFrame(GMM_Matrix_Transform(d_raw_pca_probs_train, d_raw_pca_probs_test, 50))"
      ]
    },
    {
      "cell_type": "code",
      "execution_count": null,
      "id": "0bc7ea9e",
      "metadata": {
        "execution": {
          "iopub.execute_input": "2023-11-28T16:28:10.785660Z",
          "iopub.status.busy": "2023-11-28T16:28:10.784924Z",
          "iopub.status.idle": "2023-11-28T16:43:34.622445Z",
          "shell.execute_reply": "2023-11-28T16:43:34.621196Z"
        },
        "papermill": {
          "duration": 929.832463,
          "end_time": "2023-11-28T16:43:34.625562",
          "exception": false,
          "start_time": "2023-11-28T16:28:04.793099",
          "status": "completed"
        },
        "tags": [],
        "id": "0bc7ea9e",
        "colab": {
          "base_uri": "https://localhost:8080/"
        },
        "outputId": "006efb3c-e62c-4a4e-9973-2280df4556e4"
      },
      "outputs": [
        {
          "output_type": "stream",
          "name": "stderr",
          "text": [
            "100%|██████████| 53600/53600 [13:39<00:00, 65.37it/s]\n"
          ]
        }
      ],
      "source": [
        "# normal\n",
        "d_raw_pca_probs_train_normal, dim = PCA_transformation(d_raw_train_normal)\n",
        "d_raw_pca_probs_train_normal = pd.DataFrame(GMM_Matrix_Transform(d_raw_pca_probs_train_normal, d_raw_pca_probs_train_normal, 50))"
      ]
    },
    {
      "cell_type": "markdown",
      "id": "97ef3c3d",
      "metadata": {
        "papermill": {
          "duration": 6.640697,
          "end_time": "2023-11-28T16:43:48.072360",
          "exception": false,
          "start_time": "2023-11-28T16:43:41.431663",
          "status": "completed"
        },
        "tags": [],
        "id": "97ef3c3d"
      },
      "source": [
        "## d_norm_probs"
      ]
    },
    {
      "cell_type": "code",
      "execution_count": null,
      "id": "86de08d7",
      "metadata": {
        "execution": {
          "iopub.execute_input": "2023-11-28T16:44:01.654277Z",
          "iopub.status.busy": "2023-11-28T16:44:01.653820Z",
          "iopub.status.idle": "2023-11-28T17:33:55.063148Z",
          "shell.execute_reply": "2023-11-28T17:33:55.061823Z"
        },
        "papermill": {
          "duration": 3000.274974,
          "end_time": "2023-11-28T17:33:55.066059",
          "exception": false,
          "start_time": "2023-11-28T16:43:54.791085",
          "status": "completed"
        },
        "tags": [],
        "id": "86de08d7",
        "colab": {
          "base_uri": "https://localhost:8080/"
        },
        "outputId": "2d945706-0d97-487a-f6e0-c84032cf95b5"
      },
      "outputs": [
        {
          "output_type": "stream",
          "name": "stderr",
          "text": [
            "100%|██████████| 102689/102689 [40:06<00:00, 42.68it/s]\n",
            "100%|██████████| 18880/18880 [07:10<00:00, 43.90it/s]\n"
          ]
        }
      ],
      "source": [
        "d_norm_probs_train = normalizing(d_raw_train)\n",
        "d_norm_probs_train = pd.DataFrame(GMM_Matrix_Transform(d_norm_probs_train, d_norm_probs_train, 50))\n",
        "\n",
        "d_norm_probs_test = normalizing(d_raw_test)\n",
        "d_norm_probs_test = pd.DataFrame(GMM_Matrix_Transform(d_norm_probs_train, d_norm_probs_test, 50))"
      ]
    },
    {
      "cell_type": "code",
      "execution_count": null,
      "id": "567a5357",
      "metadata": {
        "execution": {
          "iopub.execute_input": "2023-11-28T17:34:13.534437Z",
          "iopub.status.busy": "2023-11-28T17:34:13.534011Z",
          "iopub.status.idle": "2023-11-28T17:50:58.561117Z",
          "shell.execute_reply": "2023-11-28T17:50:58.559685Z"
        },
        "papermill": {
          "duration": 1014.347536,
          "end_time": "2023-11-28T17:50:58.563827",
          "exception": false,
          "start_time": "2023-11-28T17:34:04.216291",
          "status": "completed"
        },
        "tags": [],
        "id": "567a5357",
        "colab": {
          "base_uri": "https://localhost:8080/"
        },
        "outputId": "88d0a4f8-ec12-47be-aa43-177bb193e6ac"
      },
      "outputs": [
        {
          "output_type": "stream",
          "name": "stderr",
          "text": [
            "100%|██████████| 53600/53600 [14:58<00:00, 59.63it/s]\n"
          ]
        }
      ],
      "source": [
        "# normal\n",
        "d_norm_probs_train_normal = normalizing(d_raw_train_normal)\n",
        "d_norm_probs_train_normal = pd.DataFrame(GMM_Matrix_Transform(d_norm_probs_train_normal, d_norm_probs_train_normal, 50))"
      ]
    },
    {
      "cell_type": "markdown",
      "id": "1c6154f4",
      "metadata": {
        "papermill": {
          "duration": 10.047567,
          "end_time": "2023-11-28T17:51:18.669169",
          "exception": false,
          "start_time": "2023-11-28T17:51:08.621602",
          "status": "completed"
        },
        "tags": [],
        "id": "1c6154f4"
      },
      "source": [
        "## d_norm_pca_probs"
      ]
    },
    {
      "cell_type": "code",
      "execution_count": null,
      "id": "7f6d3fbe",
      "metadata": {
        "execution": {
          "iopub.execute_input": "2023-11-28T17:51:38.597830Z",
          "iopub.status.busy": "2023-11-28T17:51:38.597340Z",
          "iopub.status.idle": "2023-11-28T18:37:49.227256Z",
          "shell.execute_reply": "2023-11-28T18:37:49.225981Z"
        },
        "papermill": {
          "duration": 2780.615055,
          "end_time": "2023-11-28T18:37:49.230243",
          "exception": false,
          "start_time": "2023-11-28T17:51:28.615188",
          "status": "completed"
        },
        "tags": [],
        "id": "7f6d3fbe",
        "colab": {
          "base_uri": "https://localhost:8080/"
        },
        "outputId": "871328bf-b925-470b-b57d-fdbf8f129cf5"
      },
      "outputs": [
        {
          "output_type": "stream",
          "name": "stderr",
          "text": [
            " 81%|████████▏ | 83527/102689 [30:18<07:43, 41.37it/s]"
          ]
        }
      ],
      "source": [
        "d_norm_pca_probs_train = normalizing(d_raw_train)\n",
        "d_norm_pca_probs_train, dim = PCA_transformation(d_norm_pca_probs_train)\n",
        "d_norm_pca_probs_train = pd.DataFrame(GMM_Matrix_Transform(d_norm_pca_probs_train, d_norm_pca_probs_train, 50))\n",
        "\n",
        "d_norm_pca_probs_test = normalizing(d_raw_test)\n",
        "d_norm_pca_probs_test, dim = PCA_transformation(d_norm_pca_probs_test)\n",
        "d_norm_pca_probs_test = pd.DataFrame(GMM_Matrix_Transform(d_norm_pca_probs_train, d_norm_pca_probs_test, 50))"
      ]
    },
    {
      "cell_type": "code",
      "execution_count": null,
      "id": "a22f8997",
      "metadata": {
        "execution": {
          "iopub.execute_input": "2023-11-28T18:38:14.234290Z",
          "iopub.status.busy": "2023-11-28T18:38:14.233734Z",
          "iopub.status.idle": "2023-11-28T18:53:46.277328Z",
          "shell.execute_reply": "2023-11-28T18:53:46.275788Z"
        },
        "papermill": {
          "duration": 944.597709,
          "end_time": "2023-11-28T18:53:46.280237",
          "exception": false,
          "start_time": "2023-11-28T18:38:01.682528",
          "status": "completed"
        },
        "tags": [],
        "id": "a22f8997"
      },
      "outputs": [],
      "source": [
        "d_norm_pca_probs_train_noraml = normalizing(d_raw_train_normal)\n",
        "d_norm_pca_probs_train_noraml, dim = PCA_transformation(d_norm_pca_probs_train_noraml)\n",
        "d_norm_pca_probs_train_noraml = pd.DataFrame(GMM_Matrix_Transform(d_norm_pca_probs_train_noraml, d_norm_pca_probs_train_noraml, 50))"
      ]
    },
    {
      "cell_type": "markdown",
      "id": "c2927231",
      "metadata": {
        "papermill": {
          "duration": 14.133486,
          "end_time": "2023-11-28T18:54:14.254754",
          "exception": false,
          "start_time": "2023-11-28T18:54:00.121268",
          "status": "completed"
        },
        "tags": [],
        "id": "c2927231"
      },
      "source": [
        "# **Models**"
      ]
    },
    {
      "cell_type": "code",
      "execution_count": null,
      "id": "58211a7f",
      "metadata": {
        "execution": {
          "iopub.execute_input": "2023-11-28T18:54:41.479394Z",
          "iopub.status.busy": "2023-11-28T18:54:41.478959Z",
          "iopub.status.idle": "2023-11-28T18:54:41.487343Z",
          "shell.execute_reply": "2023-11-28T18:54:41.485839Z"
        },
        "papermill": {
          "duration": 13.944487,
          "end_time": "2023-11-28T18:54:41.490078",
          "exception": false,
          "start_time": "2023-11-28T18:54:27.545591",
          "status": "completed"
        },
        "tags": [],
        "id": "58211a7f"
      },
      "outputs": [],
      "source": [
        "def voting(data_train, data_test, min_abnormal_features = 10, threshold = 50):\n",
        "    preds = []\n",
        "    for idx in tqdm(range(len(data_test))):\n",
        "        values = list(data_test.iloc[idx,:])\n",
        "        no = GMM_vote(data_train, values, threshold)\n",
        "        if no > min_abnormal_features:\n",
        "            preds.append(1)\n",
        "        else:\n",
        "            preds.append(0)\n",
        "    return preds"
      ]
    },
    {
      "cell_type": "code",
      "execution_count": null,
      "id": "ce927cec",
      "metadata": {
        "execution": {
          "iopub.execute_input": "2023-11-28T18:55:08.530671Z",
          "iopub.status.busy": "2023-11-28T18:55:08.530154Z",
          "iopub.status.idle": "2023-11-28T18:55:08.536744Z",
          "shell.execute_reply": "2023-11-28T18:55:08.535736Z"
        },
        "papermill": {
          "duration": 13.416608,
          "end_time": "2023-11-28T18:55:08.539558",
          "exception": false,
          "start_time": "2023-11-28T18:54:55.122950",
          "status": "completed"
        },
        "tags": [],
        "id": "ce927cec"
      },
      "outputs": [],
      "source": [
        "def K_means_Distance(test_idx, test_data, model):\n",
        "    c1 = np.array(test_data.iloc[test_idx,:])\n",
        "    c2 = model.cluster_centers_[0]\n",
        "    temp = c1 - c2\n",
        "    euclid_dist = np.sqrt(np.dot(temp.T, temp))\n",
        "    euclid_dist\n",
        "    return euclid_dist"
      ]
    },
    {
      "cell_type": "code",
      "execution_count": null,
      "id": "7703bb07",
      "metadata": {
        "execution": {
          "iopub.execute_input": "2023-11-28T18:55:35.789881Z",
          "iopub.status.busy": "2023-11-28T18:55:35.789440Z",
          "iopub.status.idle": "2023-11-28T18:55:35.795849Z",
          "shell.execute_reply": "2023-11-28T18:55:35.794960Z"
        },
        "papermill": {
          "duration": 13.499255,
          "end_time": "2023-11-28T18:55:35.797981",
          "exception": false,
          "start_time": "2023-11-28T18:55:22.298726",
          "status": "completed"
        },
        "tags": [],
        "id": "7703bb07"
      },
      "outputs": [],
      "source": [
        "def kmd_model(test_data, train_data, model, threshold_dis):\n",
        "    kmd_d_raw_preds  = []\n",
        "    for idx in tqdm(range(len(test_data))):\n",
        "        dis = K_means_Distance(idx, test_data, model)\n",
        "        if dis > threshold_dis:\n",
        "            kmd_d_raw_preds.append(1)\n",
        "        else:\n",
        "            kmd_d_raw_preds.append(0)\n",
        "    return kmd_d_raw_preds"
      ]
    },
    {
      "cell_type": "code",
      "execution_count": null,
      "id": "936b8a0d",
      "metadata": {
        "execution": {
          "iopub.execute_input": "2023-11-28T18:56:02.276713Z",
          "iopub.status.busy": "2023-11-28T18:56:02.276310Z",
          "iopub.status.idle": "2023-11-28T18:56:02.282066Z",
          "shell.execute_reply": "2023-11-28T18:56:02.280870Z"
        },
        "papermill": {
          "duration": 13.476338,
          "end_time": "2023-11-28T18:56:02.284657",
          "exception": false,
          "start_time": "2023-11-28T18:55:48.808319",
          "status": "completed"
        },
        "tags": [],
        "id": "936b8a0d"
      },
      "outputs": [],
      "source": [
        "def SVM_model(train_data, test_data):\n",
        "    model = SVC()\n",
        "    model.fit(train_data, train_target)\n",
        "    preds = model.predict(test_data)\n",
        "    return preds"
      ]
    },
    {
      "cell_type": "code",
      "execution_count": null,
      "id": "efc3dd32",
      "metadata": {
        "execution": {
          "iopub.execute_input": "2023-11-28T18:56:28.587955Z",
          "iopub.status.busy": "2023-11-28T18:56:28.587503Z",
          "iopub.status.idle": "2023-11-28T18:56:28.593357Z",
          "shell.execute_reply": "2023-11-28T18:56:28.592105Z"
        },
        "papermill": {
          "duration": 13.000436,
          "end_time": "2023-11-28T18:56:28.595623",
          "exception": false,
          "start_time": "2023-11-28T18:56:15.595187",
          "status": "completed"
        },
        "tags": [],
        "id": "efc3dd32"
      },
      "outputs": [],
      "source": [
        "def kmean_C_model(train_data, test_data):\n",
        "    kmeans = KMeans(n_clusters=2, n_init=\"auto\").fit(train_data)\n",
        "    preds = kmeans.predict(test_data)\n",
        "    return preds"
      ]
    },
    {
      "cell_type": "code",
      "execution_count": null,
      "id": "28efb2ee",
      "metadata": {
        "execution": {
          "iopub.execute_input": "2023-11-28T18:56:55.262435Z",
          "iopub.status.busy": "2023-11-28T18:56:55.261872Z",
          "iopub.status.idle": "2023-11-28T18:56:55.267763Z",
          "shell.execute_reply": "2023-11-28T18:56:55.266812Z"
        },
        "papermill": {
          "duration": 13.198576,
          "end_time": "2023-11-28T18:56:55.270229",
          "exception": false,
          "start_time": "2023-11-28T18:56:42.071653",
          "status": "completed"
        },
        "tags": [],
        "id": "28efb2ee"
      },
      "outputs": [],
      "source": [
        "def dt_model(train_data, test_data):\n",
        "    model = tree.DecisionTreeClassifier()\n",
        "    model.fit(train_data, train_target)\n",
        "    preds = model.predict(test_data)\n",
        "    return preds"
      ]
    },
    {
      "cell_type": "code",
      "execution_count": null,
      "id": "32d999ee",
      "metadata": {
        "execution": {
          "iopub.execute_input": "2023-11-28T18:57:21.772193Z",
          "iopub.status.busy": "2023-11-28T18:57:21.771764Z",
          "iopub.status.idle": "2023-11-28T18:57:21.777061Z",
          "shell.execute_reply": "2023-11-28T18:57:21.776153Z"
        },
        "papermill": {
          "duration": 13.44961,
          "end_time": "2023-11-28T18:57:21.779079",
          "exception": false,
          "start_time": "2023-11-28T18:57:08.329469",
          "status": "completed"
        },
        "tags": [],
        "id": "32d999ee"
      },
      "outputs": [],
      "source": [
        "\n",
        "\n",
        "def mlp_model(train_data, test_data):\n",
        "    # Assuming train_target is the target variable for the training data\n",
        "    model = MLPClassifier(hidden_layer_sizes=(100,), max_iter=300, random_state=42).fit(train_data, train_target)\n",
        "    preds = model.predict(test_data)\n",
        "    return preds"
      ]
    },
    {
      "cell_type": "markdown",
      "id": "4b0aa3b9",
      "metadata": {
        "papermill": {
          "duration": 13.060301,
          "end_time": "2023-11-28T18:57:48.241999",
          "exception": false,
          "start_time": "2023-11-28T18:57:35.181698",
          "status": "completed"
        },
        "tags": [],
        "id": "4b0aa3b9"
      },
      "source": [
        "# Voting"
      ]
    },
    {
      "cell_type": "markdown",
      "id": "92c43c4e",
      "metadata": {
        "papermill": {
          "duration": 13.292501,
          "end_time": "2023-11-28T18:58:15.018985",
          "exception": false,
          "start_time": "2023-11-28T18:58:01.726484",
          "status": "completed"
        },
        "tags": [],
        "id": "92c43c4e"
      },
      "source": [
        "## Voting for d_raw"
      ]
    },
    {
      "cell_type": "code",
      "execution_count": null,
      "id": "52d886aa",
      "metadata": {
        "execution": {
          "iopub.execute_input": "2023-11-28T18:58:41.504572Z",
          "iopub.status.busy": "2023-11-28T18:58:41.504114Z",
          "iopub.status.idle": "2023-11-28T19:04:31.457725Z",
          "shell.execute_reply": "2023-11-28T19:04:31.455333Z"
        },
        "papermill": {
          "duration": 363.51087,
          "end_time": "2023-11-28T19:04:31.461078",
          "exception": false,
          "start_time": "2023-11-28T18:58:27.950208",
          "status": "completed"
        },
        "tags": [],
        "id": "52d886aa"
      },
      "outputs": [],
      "source": [
        "voting_d_raw_preds = voting(d_raw_train_normal, d_raw_test, min_abnormal_features = 10, threshold = 50)"
      ]
    },
    {
      "cell_type": "code",
      "source": [
        "\n",
        "voting_d_raw_preds1 = voting(d_raw_probs_train_normal, d_raw_probs_test, min_abnormal_features = 10, threshold = 50)"
      ],
      "metadata": {
        "id": "lVPR9q_i6X3M"
      },
      "id": "lVPR9q_i6X3M",
      "execution_count": null,
      "outputs": []
    },
    {
      "cell_type": "markdown",
      "id": "d4b9773c",
      "metadata": {
        "papermill": {
          "duration": 13.606789,
          "end_time": "2023-11-28T19:04:58.799569",
          "exception": false,
          "start_time": "2023-11-28T19:04:45.192780",
          "status": "completed"
        },
        "tags": [],
        "id": "d4b9773c"
      },
      "source": [
        "## Voting for d_raw_pca"
      ]
    },
    {
      "cell_type": "code",
      "execution_count": null,
      "id": "e736d550",
      "metadata": {
        "execution": {
          "iopub.execute_input": "2023-11-28T19:05:26.013275Z",
          "iopub.status.busy": "2023-11-28T19:05:26.012747Z",
          "iopub.status.idle": "2023-11-28T19:05:26.138271Z",
          "shell.execute_reply": "2023-11-28T19:05:26.136524Z"
        },
        "papermill": {
          "duration": 13.939446,
          "end_time": "2023-11-28T19:05:26.142834",
          "exception": false,
          "start_time": "2023-11-28T19:05:12.203388",
          "status": "completed"
        },
        "tags": [],
        "id": "e736d550"
      },
      "outputs": [],
      "source": [
        "d_raw_pca_train_normal, _ = PCA_transformation(d_raw_train_normal)"
      ]
    },
    {
      "cell_type": "code",
      "execution_count": null,
      "id": "e7c65fb9",
      "metadata": {
        "execution": {
          "iopub.execute_input": "2023-11-28T19:05:53.461796Z",
          "iopub.status.busy": "2023-11-28T19:05:53.461363Z",
          "iopub.status.idle": "2023-11-28T19:11:28.093831Z",
          "shell.execute_reply": "2023-11-28T19:11:28.092541Z"
        },
        "papermill": {
          "duration": 348.504201,
          "end_time": "2023-11-28T19:11:28.099461",
          "exception": false,
          "start_time": "2023-11-28T19:05:39.595260",
          "status": "completed"
        },
        "tags": [],
        "id": "e7c65fb9"
      },
      "outputs": [],
      "source": [
        "voting_d_raw_pac_preds = voting(d_raw_pca_train_normal, d_raw_pca_test, min_abnormal_features = 10, threshold = 50)"
      ]
    },
    {
      "cell_type": "code",
      "source": [
        "\n",
        "voting_d_raw_pac_preds2 = voting(d_raw_pca_probs_train_normal, d_raw_pca_probs_test, min_abnormal_features = 10, threshold = 50)"
      ],
      "metadata": {
        "id": "3Axwv0Jc7KKo"
      },
      "id": "3Axwv0Jc7KKo",
      "execution_count": null,
      "outputs": []
    },
    {
      "cell_type": "markdown",
      "id": "aaf963db",
      "metadata": {
        "papermill": {
          "duration": 13.558088,
          "end_time": "2023-11-28T19:11:55.632215",
          "exception": false,
          "start_time": "2023-11-28T19:11:42.074127",
          "status": "completed"
        },
        "tags": [],
        "id": "aaf963db"
      },
      "source": [
        "## Voting for d_raw_norm"
      ]
    },
    {
      "cell_type": "code",
      "execution_count": null,
      "id": "a1c76104",
      "metadata": {
        "execution": {
          "iopub.execute_input": "2023-11-28T19:12:23.545431Z",
          "iopub.status.busy": "2023-11-28T19:12:23.545022Z",
          "iopub.status.idle": "2023-11-28T19:12:23.878289Z",
          "shell.execute_reply": "2023-11-28T19:12:23.877085Z"
        },
        "papermill": {
          "duration": 14.21735,
          "end_time": "2023-11-28T19:12:23.881140",
          "exception": false,
          "start_time": "2023-11-28T19:12:09.663790",
          "status": "completed"
        },
        "tags": [],
        "id": "a1c76104"
      },
      "outputs": [],
      "source": [
        "d_raw_norm_train_normal = normalizing(d_raw_train_normal)"
      ]
    },
    {
      "cell_type": "code",
      "execution_count": null,
      "id": "5e33ccf8",
      "metadata": {
        "execution": {
          "iopub.execute_input": "2023-11-28T19:12:51.599453Z",
          "iopub.status.busy": "2023-11-28T19:12:51.599001Z",
          "iopub.status.idle": "2023-11-28T19:18:41.177571Z",
          "shell.execute_reply": "2023-11-28T19:18:41.176238Z"
        },
        "papermill": {
          "duration": 372.455113,
          "end_time": "2023-11-28T19:18:49.955636",
          "exception": false,
          "start_time": "2023-11-28T19:12:37.500523",
          "status": "completed"
        },
        "tags": [],
        "id": "5e33ccf8"
      },
      "outputs": [],
      "source": [
        "voting_d_raw_norm_preds = voting(d_raw_norm_train_normal, d_raw_norm_test, min_abnormal_features = 10, threshold = 50)"
      ]
    },
    {
      "cell_type": "code",
      "source": [
        "\n",
        "voting_d_raw_norm_preds3 = voting(d_norm_probs_train_normal, d_norm_probs_test, min_abnormal_features = 10, threshold = 50)"
      ],
      "metadata": {
        "id": "9kocNsTi7lFl"
      },
      "id": "9kocNsTi7lFl",
      "execution_count": null,
      "outputs": []
    },
    {
      "cell_type": "markdown",
      "id": "250c4629",
      "metadata": {
        "papermill": {
          "duration": 14.140086,
          "end_time": "2023-11-28T19:19:18.399526",
          "exception": false,
          "start_time": "2023-11-28T19:19:04.259440",
          "status": "completed"
        },
        "tags": [],
        "id": "250c4629"
      },
      "source": [
        "## Voting for d_raw_norm_pca"
      ]
    },
    {
      "cell_type": "code",
      "execution_count": null,
      "id": "4168e401",
      "metadata": {
        "execution": {
          "iopub.execute_input": "2023-11-28T19:19:46.918615Z",
          "iopub.status.busy": "2023-11-28T19:19:46.918146Z",
          "iopub.status.idle": "2023-11-28T19:19:47.375221Z",
          "shell.execute_reply": "2023-11-28T19:19:47.373710Z"
        },
        "papermill": {
          "duration": 14.711628,
          "end_time": "2023-11-28T19:19:47.379891",
          "exception": false,
          "start_time": "2023-11-28T19:19:32.668263",
          "status": "completed"
        },
        "tags": [],
        "id": "4168e401"
      },
      "outputs": [],
      "source": [
        "d_raw_norm_pca_train_noraml, dim = PCA_transformation(normalizing(d_raw_train_normal))"
      ]
    },
    {
      "cell_type": "code",
      "execution_count": null,
      "id": "17b9c906",
      "metadata": {
        "execution": {
          "iopub.execute_input": "2023-11-28T19:20:15.679947Z",
          "iopub.status.busy": "2023-11-28T19:20:15.679449Z",
          "iopub.status.idle": "2023-11-28T19:27:22.338429Z",
          "shell.execute_reply": "2023-11-28T19:27:22.337267Z"
        },
        "papermill": {
          "duration": 440.694753,
          "end_time": "2023-11-28T19:27:22.341837",
          "exception": false,
          "start_time": "2023-11-28T19:20:01.647084",
          "status": "completed"
        },
        "tags": [],
        "id": "17b9c906"
      },
      "outputs": [],
      "source": [
        "voting_d_raw_norm_pac_preds = voting(d_raw_norm_pca_train, d_raw_norm_pca_test, min_abnormal_features = 10, threshold = 50)"
      ]
    },
    {
      "cell_type": "code",
      "source": [
        "\n",
        "voting_d_raw_norm_pac_preds4 = voting(d_norm_pca_probs_train_noraml, d_norm_pca_probs_test, min_abnormal_features = 10, threshold = 50)"
      ],
      "metadata": {
        "id": "-qykje4C71PV"
      },
      "id": "-qykje4C71PV",
      "execution_count": null,
      "outputs": []
    },
    {
      "cell_type": "markdown",
      "id": "7b6d9644",
      "metadata": {
        "papermill": {
          "duration": 14.60654,
          "end_time": "2023-11-28T19:27:51.634590",
          "exception": false,
          "start_time": "2023-11-28T19:27:37.028050",
          "status": "completed"
        },
        "tags": [],
        "id": "7b6d9644"
      },
      "source": [
        "# KM-D"
      ]
    },
    {
      "cell_type": "markdown",
      "id": "dae24253",
      "metadata": {
        "papermill": {
          "duration": 14.606013,
          "end_time": "2023-11-28T19:28:20.867772",
          "exception": false,
          "start_time": "2023-11-28T19:28:06.261759",
          "status": "completed"
        },
        "tags": [],
        "id": "dae24253"
      },
      "source": [
        "## KM-D for d_raw"
      ]
    },
    {
      "cell_type": "code",
      "execution_count": null,
      "id": "51345997",
      "metadata": {
        "execution": {
          "iopub.execute_input": "2023-11-28T19:29:19.414807Z",
          "iopub.status.busy": "2023-11-28T19:29:19.413263Z",
          "iopub.status.idle": "2023-11-28T19:29:22.768537Z",
          "shell.execute_reply": "2023-11-28T19:29:22.767246Z"
        },
        "papermill": {
          "duration": 17.98808,
          "end_time": "2023-11-28T19:29:22.772558",
          "exception": false,
          "start_time": "2023-11-28T19:29:04.784478",
          "status": "completed"
        },
        "tags": [],
        "id": "51345997"
      },
      "outputs": [],
      "source": [
        "kmeans = KMeans(n_clusters=1, random_state=0, n_init=\"auto\").fit(d_raw_train_normal)\n",
        "kmd_d_raw_preds = kmd_model(d_raw_test, d_raw_train_normal,kmeans, 0.8)"
      ]
    },
    {
      "cell_type": "markdown",
      "id": "e1196aca",
      "metadata": {
        "papermill": {
          "duration": 14.311532,
          "end_time": "2023-11-28T19:29:51.711604",
          "exception": false,
          "start_time": "2023-11-28T19:29:37.400072",
          "status": "completed"
        },
        "tags": [],
        "id": "e1196aca"
      },
      "source": [
        "## KM-D for d_raw_pca"
      ]
    },
    {
      "cell_type": "code",
      "execution_count": null,
      "id": "841fa1fc",
      "metadata": {
        "execution": {
          "iopub.execute_input": "2023-11-28T19:30:21.115415Z",
          "iopub.status.busy": "2023-11-28T19:30:21.115014Z",
          "iopub.status.idle": "2023-11-28T19:30:23.122307Z",
          "shell.execute_reply": "2023-11-28T19:30:23.121060Z"
        },
        "papermill": {
          "duration": 16.605253,
          "end_time": "2023-11-28T19:30:23.125761",
          "exception": false,
          "start_time": "2023-11-28T19:30:06.520508",
          "status": "completed"
        },
        "tags": [],
        "id": "841fa1fc"
      },
      "outputs": [],
      "source": [
        "kmeans = KMeans(n_clusters=1, random_state=0, n_init=\"auto\").fit(d_raw_pca_train_normal)\n",
        "kmd_d_raw_pca_preds = kmd_model(d_raw_pca_test, d_raw_pca_train_normal,kmeans,0.8)"
      ]
    },
    {
      "cell_type": "markdown",
      "id": "43ea30d8",
      "metadata": {
        "papermill": {
          "duration": 14.748845,
          "end_time": "2023-11-28T19:30:52.178478",
          "exception": false,
          "start_time": "2023-11-28T19:30:37.429633",
          "status": "completed"
        },
        "tags": [],
        "id": "43ea30d8"
      },
      "source": [
        "## KM-D for d_raw_norm"
      ]
    },
    {
      "cell_type": "code",
      "execution_count": null,
      "id": "a37ca6a2",
      "metadata": {
        "execution": {
          "iopub.execute_input": "2023-11-28T19:31:21.138424Z",
          "iopub.status.busy": "2023-11-28T19:31:21.137947Z",
          "iopub.status.idle": "2023-11-28T19:31:24.507420Z",
          "shell.execute_reply": "2023-11-28T19:31:24.506051Z"
        },
        "papermill": {
          "duration": 17.679758,
          "end_time": "2023-11-28T19:31:24.510509",
          "exception": false,
          "start_time": "2023-11-28T19:31:06.830751",
          "status": "completed"
        },
        "tags": [],
        "id": "a37ca6a2"
      },
      "outputs": [],
      "source": [
        "kmeans = KMeans(n_clusters=1, random_state=0, n_init=\"auto\").fit(d_raw_norm_train_normal)\n",
        "kmd_d_raw_norm_preds = kmd_model(d_raw_norm_test, d_raw_norm_train_normal,kmeans,0.5)\n",
        "# np.unique(kmd_d_raw_norm_preds, return_counts=True)"
      ]
    },
    {
      "cell_type": "markdown",
      "id": "9c8b3390",
      "metadata": {
        "papermill": {
          "duration": 14.541789,
          "end_time": "2023-11-28T19:31:53.906325",
          "exception": false,
          "start_time": "2023-11-28T19:31:39.364536",
          "status": "completed"
        },
        "tags": [],
        "id": "9c8b3390"
      },
      "source": [
        "## KM-D for d_raw_norm_pca"
      ]
    },
    {
      "cell_type": "code",
      "execution_count": null,
      "id": "7b0b9746",
      "metadata": {
        "execution": {
          "iopub.execute_input": "2023-11-28T19:32:22.940499Z",
          "iopub.status.busy": "2023-11-28T19:32:22.940087Z",
          "iopub.status.idle": "2023-11-28T19:32:24.942976Z",
          "shell.execute_reply": "2023-11-28T19:32:24.941508Z"
        },
        "papermill": {
          "duration": 16.66436,
          "end_time": "2023-11-28T19:32:24.945423",
          "exception": false,
          "start_time": "2023-11-28T19:32:08.281063",
          "status": "completed"
        },
        "tags": [],
        "id": "7b0b9746"
      },
      "outputs": [],
      "source": [
        "kmeans = KMeans(n_clusters=1, random_state=0, n_init=\"auto\").fit(d_raw_norm_pca_train_noraml)\n",
        "kmd_d_raw_norm_pca_preds = kmd_model(d_raw_norm_pca_test, d_raw_norm_pca_train_noraml,kmeans,0.5)"
      ]
    },
    {
      "cell_type": "markdown",
      "id": "9045bf91",
      "metadata": {
        "papermill": {
          "duration": 14.48317,
          "end_time": "2023-11-28T19:32:54.101655",
          "exception": false,
          "start_time": "2023-11-28T19:32:39.618485",
          "status": "completed"
        },
        "tags": [],
        "id": "9045bf91"
      },
      "source": [
        "## KM-D for d_raw_probs"
      ]
    },
    {
      "cell_type": "code",
      "execution_count": null,
      "id": "39618a97",
      "metadata": {
        "execution": {
          "iopub.execute_input": "2023-11-28T19:33:23.011384Z",
          "iopub.status.busy": "2023-11-28T19:33:23.010887Z",
          "iopub.status.idle": "2023-11-28T19:33:25.027433Z",
          "shell.execute_reply": "2023-11-28T19:33:25.026106Z"
        },
        "papermill": {
          "duration": 16.288452,
          "end_time": "2023-11-28T19:33:25.030069",
          "exception": false,
          "start_time": "2023-11-28T19:33:08.741617",
          "status": "completed"
        },
        "tags": [],
        "id": "39618a97"
      },
      "outputs": [],
      "source": [
        "kmeans = KMeans(n_clusters=1, random_state=0, n_init=\"auto\").fit(d_raw_probs_train_normal)\n",
        "kmd_d_raw_probs_preds = kmd_model(d_raw_probs_test, d_raw_probs_train_normal,kmeans,150)"
      ]
    },
    {
      "cell_type": "markdown",
      "id": "1c22e2a5",
      "metadata": {
        "papermill": {
          "duration": 14.629414,
          "end_time": "2023-11-28T19:33:54.473770",
          "exception": false,
          "start_time": "2023-11-28T19:33:39.844356",
          "status": "completed"
        },
        "tags": [],
        "id": "1c22e2a5"
      },
      "source": [
        "## KM-D for d_raw_pca_probs"
      ]
    },
    {
      "cell_type": "code",
      "execution_count": null,
      "id": "1a3142ba",
      "metadata": {
        "execution": {
          "iopub.execute_input": "2023-11-28T19:34:23.603919Z",
          "iopub.status.busy": "2023-11-28T19:34:23.603438Z",
          "iopub.status.idle": "2023-11-28T19:34:25.608990Z",
          "shell.execute_reply": "2023-11-28T19:34:25.607636Z"
        },
        "papermill": {
          "duration": 16.809268,
          "end_time": "2023-11-28T19:34:25.611763",
          "exception": false,
          "start_time": "2023-11-28T19:34:08.802495",
          "status": "completed"
        },
        "tags": [],
        "id": "1a3142ba"
      },
      "outputs": [],
      "source": [
        "kmeans = KMeans(n_clusters=1, random_state=0, n_init=\"auto\").fit(d_raw_pca_probs_train_normal)\n",
        "kmd_d_raw_pca_probs_preds = kmd_model(d_raw_pca_probs_test, d_raw_pca_probs_train_normal,kmeans,165)"
      ]
    },
    {
      "cell_type": "markdown",
      "id": "33fde13a",
      "metadata": {
        "papermill": {
          "duration": 14.620931,
          "end_time": "2023-11-28T19:34:54.894856",
          "exception": false,
          "start_time": "2023-11-28T19:34:40.273925",
          "status": "completed"
        },
        "tags": [],
        "id": "33fde13a"
      },
      "source": [
        "## KM-D for d_norm_probs"
      ]
    },
    {
      "cell_type": "code",
      "execution_count": null,
      "id": "79151c62",
      "metadata": {
        "execution": {
          "iopub.execute_input": "2023-11-28T19:35:24.035163Z",
          "iopub.status.busy": "2023-11-28T19:35:24.034694Z",
          "iopub.status.idle": "2023-11-28T19:35:26.008050Z",
          "shell.execute_reply": "2023-11-28T19:35:26.006817Z"
        },
        "papermill": {
          "duration": 16.81283,
          "end_time": "2023-11-28T19:35:26.010705",
          "exception": false,
          "start_time": "2023-11-28T19:35:09.197875",
          "status": "completed"
        },
        "tags": [],
        "id": "79151c62"
      },
      "outputs": [],
      "source": [
        "kmeans = KMeans(n_clusters=1, random_state=0, n_init=\"auto\").fit(d_norm_probs_train_normal)\n",
        "kmd_d_raw_norm_probs_preds = kmd_model(d_norm_probs_test, d_norm_probs_train_normal,kmeans,150)"
      ]
    },
    {
      "cell_type": "markdown",
      "id": "82288d9b",
      "metadata": {
        "papermill": {
          "duration": 14.615656,
          "end_time": "2023-11-28T19:35:55.291206",
          "exception": false,
          "start_time": "2023-11-28T19:35:40.675550",
          "status": "completed"
        },
        "tags": [],
        "id": "82288d9b"
      },
      "source": [
        "## KM-D for d_norm_pca_probs"
      ]
    },
    {
      "cell_type": "code",
      "execution_count": null,
      "id": "9c95a96c",
      "metadata": {
        "execution": {
          "iopub.execute_input": "2023-11-28T19:36:24.249464Z",
          "iopub.status.busy": "2023-11-28T19:36:24.249057Z",
          "iopub.status.idle": "2023-11-28T19:36:26.288298Z",
          "shell.execute_reply": "2023-11-28T19:36:26.286737Z"
        },
        "papermill": {
          "duration": 16.750255,
          "end_time": "2023-11-28T19:36:26.290992",
          "exception": false,
          "start_time": "2023-11-28T19:36:09.540737",
          "status": "completed"
        },
        "tags": [],
        "id": "9c95a96c"
      },
      "outputs": [],
      "source": [
        "kmeans = KMeans(n_clusters=1, random_state=0, n_init=\"auto\").fit(d_norm_pca_probs_train_noraml)\n",
        "kmd_d_raw_norm_pca_probs_preds = kmd_model(d_norm_pca_probs_test, d_norm_pca_probs_train_noraml,kmeans,176)"
      ]
    },
    {
      "cell_type": "markdown",
      "id": "45c3c2c5",
      "metadata": {
        "papermill": {
          "duration": 14.609454,
          "end_time": "2023-11-28T19:36:55.525740",
          "exception": false,
          "start_time": "2023-11-28T19:36:40.916286",
          "status": "completed"
        },
        "tags": [],
        "id": "45c3c2c5"
      },
      "source": [
        "# SVM"
      ]
    },
    {
      "cell_type": "markdown",
      "id": "f8eef395",
      "metadata": {
        "papermill": {
          "duration": 14.844894,
          "end_time": "2023-11-28T19:37:24.688023",
          "exception": false,
          "start_time": "2023-11-28T19:37:09.843129",
          "status": "completed"
        },
        "tags": [],
        "id": "f8eef395"
      },
      "source": [
        "## SVM for d_raw"
      ]
    },
    {
      "cell_type": "code",
      "execution_count": null,
      "id": "8c44cb1d",
      "metadata": {
        "execution": {
          "iopub.execute_input": "2023-11-28T19:37:53.931919Z",
          "iopub.status.busy": "2023-11-28T19:37:53.931436Z",
          "iopub.status.idle": "2023-11-28T19:44:05.590570Z",
          "shell.execute_reply": "2023-11-28T19:44:05.589154Z"
        },
        "papermill": {
          "duration": 386.293081,
          "end_time": "2023-11-28T19:44:05.593666",
          "exception": false,
          "start_time": "2023-11-28T19:37:39.300585",
          "status": "completed"
        },
        "tags": [],
        "id": "8c44cb1d"
      },
      "outputs": [],
      "source": [
        "svm_d_raw_preds = SVM_model(d_raw_train, d_raw_test)"
      ]
    },
    {
      "cell_type": "markdown",
      "id": "5fce8d87",
      "metadata": {
        "papermill": {
          "duration": 14.74118,
          "end_time": "2023-11-28T19:44:34.651110",
          "exception": false,
          "start_time": "2023-11-28T19:44:19.909930",
          "status": "completed"
        },
        "tags": [],
        "id": "5fce8d87"
      },
      "source": [
        "## SVM for d_raw_pca"
      ]
    },
    {
      "cell_type": "code",
      "execution_count": null,
      "id": "c70937c6",
      "metadata": {
        "execution": {
          "iopub.execute_input": "2023-11-28T19:45:03.817916Z",
          "iopub.status.busy": "2023-11-28T19:45:03.817435Z",
          "iopub.status.idle": "2023-11-28T19:51:38.918193Z",
          "shell.execute_reply": "2023-11-28T19:51:38.916749Z"
        },
        "papermill": {
          "duration": 409.663844,
          "end_time": "2023-11-28T19:51:38.921688",
          "exception": false,
          "start_time": "2023-11-28T19:44:49.257844",
          "status": "completed"
        },
        "tags": [],
        "id": "c70937c6"
      },
      "outputs": [],
      "source": [
        "svm_d_raw_pca_preds = SVM_model(d_raw_pca_train, d_raw_pca_test)"
      ]
    },
    {
      "cell_type": "markdown",
      "id": "7bcc87d5",
      "metadata": {
        "papermill": {
          "duration": 14.80586,
          "end_time": "2023-11-28T19:52:07.991446",
          "exception": false,
          "start_time": "2023-11-28T19:51:53.185586",
          "status": "completed"
        },
        "tags": [],
        "id": "7bcc87d5"
      },
      "source": [
        "## SVM for d_raw_norm"
      ]
    },
    {
      "cell_type": "code",
      "execution_count": null,
      "id": "dffe5ec0",
      "metadata": {
        "execution": {
          "iopub.execute_input": "2023-11-28T19:52:36.908249Z",
          "iopub.status.busy": "2023-11-28T19:52:36.907660Z",
          "iopub.status.idle": "2023-11-28T19:58:46.817146Z",
          "shell.execute_reply": "2023-11-28T19:58:46.815680Z"
        },
        "papermill": {
          "duration": 384.295048,
          "end_time": "2023-11-28T19:58:46.820357",
          "exception": false,
          "start_time": "2023-11-28T19:52:22.525309",
          "status": "completed"
        },
        "tags": [],
        "id": "dffe5ec0"
      },
      "outputs": [],
      "source": [
        "svm_d_raw_norm_preds = SVM_model(d_raw_norm_train, d_raw_norm_test)"
      ]
    },
    {
      "cell_type": "markdown",
      "id": "5e9438a7",
      "metadata": {
        "papermill": {
          "duration": 14.566383,
          "end_time": "2023-11-28T19:59:16.183507",
          "exception": false,
          "start_time": "2023-11-28T19:59:01.617124",
          "status": "completed"
        },
        "tags": [],
        "id": "5e9438a7"
      },
      "source": [
        "## SVM for d_raw_norm_pca"
      ]
    },
    {
      "cell_type": "code",
      "execution_count": null,
      "id": "c4004237",
      "metadata": {
        "execution": {
          "iopub.execute_input": "2023-11-28T19:59:45.272463Z",
          "iopub.status.busy": "2023-11-28T19:59:45.272015Z",
          "iopub.status.idle": "2023-11-28T20:01:53.138845Z",
          "shell.execute_reply": "2023-11-28T20:01:53.137744Z"
        },
        "papermill": {
          "duration": 142.693309,
          "end_time": "2023-11-28T20:01:53.142315",
          "exception": false,
          "start_time": "2023-11-28T19:59:30.449006",
          "status": "completed"
        },
        "tags": [],
        "id": "c4004237"
      },
      "outputs": [],
      "source": [
        "svm_d_raw_norm_pca_preds = SVM_model(d_raw_norm_pca_train, d_raw_norm_pca_test)"
      ]
    },
    {
      "cell_type": "markdown",
      "id": "7d10a289",
      "metadata": {
        "papermill": {
          "duration": 14.842331,
          "end_time": "2023-11-28T20:02:22.442189",
          "exception": false,
          "start_time": "2023-11-28T20:02:07.599858",
          "status": "completed"
        },
        "tags": [],
        "id": "7d10a289"
      },
      "source": [
        "## SVM for d_raw_probs"
      ]
    },
    {
      "cell_type": "code",
      "execution_count": null,
      "id": "4c9e180c",
      "metadata": {
        "execution": {
          "iopub.execute_input": "2023-11-28T20:02:51.636388Z",
          "iopub.status.busy": "2023-11-28T20:02:51.635645Z",
          "iopub.status.idle": "2023-11-28T20:03:22.475255Z",
          "shell.execute_reply": "2023-11-28T20:03:22.474306Z"
        },
        "papermill": {
          "duration": 45.645538,
          "end_time": "2023-11-28T20:03:22.477984",
          "exception": false,
          "start_time": "2023-11-28T20:02:36.832446",
          "status": "completed"
        },
        "tags": [],
        "id": "4c9e180c"
      },
      "outputs": [],
      "source": [
        "svm_d_raw_probs_preds = SVM_model(d_raw_probs_train, d_raw_probs_test)"
      ]
    },
    {
      "cell_type": "markdown",
      "id": "bbc5c1d6",
      "metadata": {
        "papermill": {
          "duration": 14.881292,
          "end_time": "2023-11-28T20:03:51.752051",
          "exception": false,
          "start_time": "2023-11-28T20:03:36.870759",
          "status": "completed"
        },
        "tags": [],
        "id": "bbc5c1d6"
      },
      "source": [
        "## SVM for d_raw_pca_probs"
      ]
    },
    {
      "cell_type": "code",
      "execution_count": null,
      "id": "f9619950",
      "metadata": {
        "execution": {
          "iopub.execute_input": "2023-11-28T20:04:20.984049Z",
          "iopub.status.busy": "2023-11-28T20:04:20.983585Z",
          "iopub.status.idle": "2023-11-28T20:04:56.898089Z",
          "shell.execute_reply": "2023-11-28T20:04:56.896723Z"
        },
        "papermill": {
          "duration": 50.763944,
          "end_time": "2023-11-28T20:04:56.901115",
          "exception": false,
          "start_time": "2023-11-28T20:04:06.137171",
          "status": "completed"
        },
        "tags": [],
        "id": "f9619950"
      },
      "outputs": [],
      "source": [
        "svm_d_raw_pca_probs_preds = SVM_model(d_raw_pca_probs_train, d_raw_pca_probs_test)"
      ]
    },
    {
      "cell_type": "markdown",
      "id": "2cac6f88",
      "metadata": {
        "papermill": {
          "duration": 14.86773,
          "end_time": "2023-11-28T20:05:26.270819",
          "exception": false,
          "start_time": "2023-11-28T20:05:11.403089",
          "status": "completed"
        },
        "tags": [],
        "id": "2cac6f88"
      },
      "source": [
        "## SVM for d_norm_probs"
      ]
    },
    {
      "cell_type": "code",
      "execution_count": null,
      "id": "d9ec4712",
      "metadata": {
        "execution": {
          "iopub.execute_input": "2023-11-28T20:05:55.730304Z",
          "iopub.status.busy": "2023-11-28T20:05:55.729870Z",
          "iopub.status.idle": "2023-11-28T20:06:26.775288Z",
          "shell.execute_reply": "2023-11-28T20:06:26.774005Z"
        },
        "papermill": {
          "duration": 46.041837,
          "end_time": "2023-11-28T20:06:26.778158",
          "exception": false,
          "start_time": "2023-11-28T20:05:40.736321",
          "status": "completed"
        },
        "tags": [],
        "id": "d9ec4712"
      },
      "outputs": [],
      "source": [
        "svm_d_norm_probs_preds = SVM_model(d_norm_probs_train, d_norm_probs_test)"
      ]
    },
    {
      "cell_type": "markdown",
      "id": "2f0904f3",
      "metadata": {
        "papermill": {
          "duration": 14.863783,
          "end_time": "2023-11-28T20:06:56.061669",
          "exception": false,
          "start_time": "2023-11-28T20:06:41.197886",
          "status": "completed"
        },
        "tags": [],
        "id": "2f0904f3"
      },
      "source": [
        "## SVM for d_norm_pca_probs"
      ]
    },
    {
      "cell_type": "code",
      "execution_count": null,
      "id": "4412361e",
      "metadata": {
        "execution": {
          "iopub.execute_input": "2023-11-28T20:07:24.966614Z",
          "iopub.status.busy": "2023-11-28T20:07:24.965461Z",
          "iopub.status.idle": "2023-11-28T20:08:00.796472Z",
          "shell.execute_reply": "2023-11-28T20:08:00.795447Z"
        },
        "papermill": {
          "duration": 50.360929,
          "end_time": "2023-11-28T20:08:00.799246",
          "exception": false,
          "start_time": "2023-11-28T20:07:10.438317",
          "status": "completed"
        },
        "tags": [],
        "id": "4412361e"
      },
      "outputs": [],
      "source": [
        "svm_d_norm_pca_probs_preds = SVM_model(d_norm_pca_probs_train, d_norm_pca_probs_test)"
      ]
    },
    {
      "cell_type": "markdown",
      "id": "5ac2fad3",
      "metadata": {
        "papermill": {
          "duration": 14.506189,
          "end_time": "2023-11-28T20:08:30.218799",
          "exception": false,
          "start_time": "2023-11-28T20:08:15.712610",
          "status": "completed"
        },
        "tags": [],
        "id": "5ac2fad3"
      },
      "source": [
        "# KM-C"
      ]
    },
    {
      "cell_type": "markdown",
      "id": "6a199818",
      "metadata": {
        "papermill": {
          "duration": 14.474709,
          "end_time": "2023-11-28T20:08:59.080191",
          "exception": false,
          "start_time": "2023-11-28T20:08:44.605482",
          "status": "completed"
        },
        "tags": [],
        "id": "6a199818"
      },
      "source": [
        "## KM-C for d_raw"
      ]
    },
    {
      "cell_type": "code",
      "execution_count": null,
      "id": "9e94c5b0",
      "metadata": {
        "execution": {
          "iopub.execute_input": "2023-11-28T20:09:28.551777Z",
          "iopub.status.busy": "2023-11-28T20:09:28.551312Z",
          "iopub.status.idle": "2023-11-28T20:09:28.740136Z",
          "shell.execute_reply": "2023-11-28T20:09:28.739153Z"
        },
        "papermill": {
          "duration": 14.804125,
          "end_time": "2023-11-28T20:09:28.742858",
          "exception": false,
          "start_time": "2023-11-28T20:09:13.938733",
          "status": "completed"
        },
        "tags": [],
        "id": "9e94c5b0"
      },
      "outputs": [],
      "source": [
        "kmc_d_raw_preds = kmean_C_model(d_raw_train, d_raw_test)"
      ]
    },
    {
      "cell_type": "markdown",
      "id": "91e5af40",
      "metadata": {
        "papermill": {
          "duration": 14.54126,
          "end_time": "2023-11-28T20:09:57.611587",
          "exception": false,
          "start_time": "2023-11-28T20:09:43.070327",
          "status": "completed"
        },
        "tags": [],
        "id": "91e5af40"
      },
      "source": [
        "## KM-C for d_raw_pca"
      ]
    },
    {
      "cell_type": "code",
      "execution_count": null,
      "id": "de0863c5",
      "metadata": {
        "execution": {
          "iopub.execute_input": "2023-11-28T20:10:27.110492Z",
          "iopub.status.busy": "2023-11-28T20:10:27.110076Z",
          "iopub.status.idle": "2023-11-28T20:10:27.307440Z",
          "shell.execute_reply": "2023-11-28T20:10:27.306480Z"
        },
        "papermill": {
          "duration": 14.807865,
          "end_time": "2023-11-28T20:10:27.310191",
          "exception": false,
          "start_time": "2023-11-28T20:10:12.502326",
          "status": "completed"
        },
        "tags": [],
        "id": "de0863c5"
      },
      "outputs": [],
      "source": [
        "kmc_d_raw_pca_preds = kmean_C_model(d_raw_pca_train, d_raw_pca_test)"
      ]
    },
    {
      "cell_type": "markdown",
      "id": "dd7be428",
      "metadata": {
        "papermill": {
          "duration": 14.543207,
          "end_time": "2023-11-28T20:10:56.150694",
          "exception": false,
          "start_time": "2023-11-28T20:10:41.607487",
          "status": "completed"
        },
        "tags": [],
        "id": "dd7be428"
      },
      "source": [
        "## KM-C for d_raw_norm"
      ]
    },
    {
      "cell_type": "code",
      "execution_count": null,
      "id": "9ab19743",
      "metadata": {
        "execution": {
          "iopub.execute_input": "2023-11-28T20:11:25.819948Z",
          "iopub.status.busy": "2023-11-28T20:11:25.819446Z",
          "iopub.status.idle": "2023-11-28T20:11:26.019327Z",
          "shell.execute_reply": "2023-11-28T20:11:26.018303Z"
        },
        "papermill": {
          "duration": 14.992933,
          "end_time": "2023-11-28T20:11:26.022106",
          "exception": false,
          "start_time": "2023-11-28T20:11:11.029173",
          "status": "completed"
        },
        "tags": [],
        "id": "9ab19743"
      },
      "outputs": [],
      "source": [
        "kmc_d_raw_norm_preds = kmean_C_model(d_raw_norm_train, d_raw_norm_test)"
      ]
    },
    {
      "cell_type": "markdown",
      "id": "bfff172a",
      "metadata": {
        "papermill": {
          "duration": 14.625962,
          "end_time": "2023-11-28T20:11:55.129576",
          "exception": false,
          "start_time": "2023-11-28T20:11:40.503614",
          "status": "completed"
        },
        "tags": [],
        "id": "bfff172a"
      },
      "source": [
        "## KM-C for d_raw_norm_pca"
      ]
    },
    {
      "cell_type": "code",
      "execution_count": null,
      "id": "b21bbf06",
      "metadata": {
        "execution": {
          "iopub.execute_input": "2023-11-28T20:12:24.561446Z",
          "iopub.status.busy": "2023-11-28T20:12:24.560889Z",
          "iopub.status.idle": "2023-11-28T20:12:24.812933Z",
          "shell.execute_reply": "2023-11-28T20:12:24.811758Z"
        },
        "papermill": {
          "duration": 14.8737,
          "end_time": "2023-11-28T20:12:24.816148",
          "exception": false,
          "start_time": "2023-11-28T20:12:09.942448",
          "status": "completed"
        },
        "tags": [],
        "id": "b21bbf06"
      },
      "outputs": [],
      "source": [
        "kmc_d_raw_norm_pca_preds = kmean_C_model(d_raw_norm_pca_train, d_raw_norm_pca_test)"
      ]
    },
    {
      "cell_type": "markdown",
      "id": "645d9d63",
      "metadata": {
        "papermill": {
          "duration": 14.516008,
          "end_time": "2023-11-28T20:12:53.604337",
          "exception": false,
          "start_time": "2023-11-28T20:12:39.088329",
          "status": "completed"
        },
        "tags": [],
        "id": "645d9d63"
      },
      "source": [
        "## KM-C for d_raw_probs"
      ]
    },
    {
      "cell_type": "code",
      "execution_count": null,
      "id": "c615d902",
      "metadata": {
        "execution": {
          "iopub.execute_input": "2023-11-28T20:13:23.030325Z",
          "iopub.status.busy": "2023-11-28T20:13:23.029815Z",
          "iopub.status.idle": "2023-11-28T20:13:23.220006Z",
          "shell.execute_reply": "2023-11-28T20:13:23.218998Z"
        },
        "papermill": {
          "duration": 14.803704,
          "end_time": "2023-11-28T20:13:23.222736",
          "exception": false,
          "start_time": "2023-11-28T20:13:08.419032",
          "status": "completed"
        },
        "tags": [],
        "id": "c615d902"
      },
      "outputs": [],
      "source": [
        "kmc_d_raw_probs_preds = kmean_C_model(d_raw_probs_train, d_raw_probs_test)"
      ]
    },
    {
      "cell_type": "markdown",
      "id": "dfd69f15",
      "metadata": {
        "papermill": {
          "duration": 14.475126,
          "end_time": "2023-11-28T20:13:52.020612",
          "exception": false,
          "start_time": "2023-11-28T20:13:37.545486",
          "status": "completed"
        },
        "tags": [],
        "id": "dfd69f15"
      },
      "source": [
        "## KM-C for d_raw_pca_probs"
      ]
    },
    {
      "cell_type": "code",
      "execution_count": null,
      "id": "30a964bd",
      "metadata": {
        "execution": {
          "iopub.execute_input": "2023-11-28T20:14:21.450738Z",
          "iopub.status.busy": "2023-11-28T20:14:21.450308Z",
          "iopub.status.idle": "2023-11-28T20:14:21.752318Z",
          "shell.execute_reply": "2023-11-28T20:14:21.751341Z"
        },
        "papermill": {
          "duration": 14.870982,
          "end_time": "2023-11-28T20:14:21.755758",
          "exception": false,
          "start_time": "2023-11-28T20:14:06.884776",
          "status": "completed"
        },
        "tags": [],
        "id": "30a964bd"
      },
      "outputs": [],
      "source": [
        "kmc_d_raw_pca_probs_preds = kmean_C_model(d_raw_pca_probs_train, d_raw_pca_probs_test)"
      ]
    },
    {
      "cell_type": "markdown",
      "id": "b2e5cc80",
      "metadata": {
        "papermill": {
          "duration": 14.463919,
          "end_time": "2023-11-28T20:14:50.466539",
          "exception": false,
          "start_time": "2023-11-28T20:14:36.002620",
          "status": "completed"
        },
        "tags": [],
        "id": "b2e5cc80"
      },
      "source": [
        "## KM-C for d_norm_probs"
      ]
    },
    {
      "cell_type": "code",
      "execution_count": null,
      "id": "93773595",
      "metadata": {
        "execution": {
          "iopub.execute_input": "2023-11-28T20:15:19.670914Z",
          "iopub.status.busy": "2023-11-28T20:15:19.670415Z",
          "iopub.status.idle": "2023-11-28T20:15:19.850248Z",
          "shell.execute_reply": "2023-11-28T20:15:19.849246Z"
        },
        "papermill": {
          "duration": 14.474695,
          "end_time": "2023-11-28T20:15:19.853398",
          "exception": false,
          "start_time": "2023-11-28T20:15:05.378703",
          "status": "completed"
        },
        "tags": [],
        "id": "93773595"
      },
      "outputs": [],
      "source": [
        "kmc_d_norm_probs_preds = kmean_C_model(d_norm_probs_train, d_norm_probs_test)"
      ]
    },
    {
      "cell_type": "markdown",
      "id": "e98845fd",
      "metadata": {
        "papermill": {
          "duration": 14.281177,
          "end_time": "2023-11-28T20:15:48.960227",
          "exception": false,
          "start_time": "2023-11-28T20:15:34.679050",
          "status": "completed"
        },
        "tags": [],
        "id": "e98845fd"
      },
      "source": [
        "## KM-C for d_norm_pca_probs"
      ]
    },
    {
      "cell_type": "code",
      "execution_count": null,
      "id": "88fff9d1",
      "metadata": {
        "execution": {
          "iopub.execute_input": "2023-11-28T20:16:18.049317Z",
          "iopub.status.busy": "2023-11-28T20:16:18.048914Z",
          "iopub.status.idle": "2023-11-28T20:16:18.245858Z",
          "shell.execute_reply": "2023-11-28T20:16:18.244804Z"
        },
        "papermill": {
          "duration": 14.501703,
          "end_time": "2023-11-28T20:16:18.248653",
          "exception": false,
          "start_time": "2023-11-28T20:16:03.746950",
          "status": "completed"
        },
        "tags": [],
        "id": "88fff9d1"
      },
      "outputs": [],
      "source": [
        "kmc_d_norm_pca_probs_preds = kmean_C_model(d_norm_pca_probs_train, d_norm_pca_probs_test)"
      ]
    },
    {
      "cell_type": "markdown",
      "id": "6791af69",
      "metadata": {
        "papermill": {
          "duration": 14.390629,
          "end_time": "2023-11-28T20:16:47.355668",
          "exception": false,
          "start_time": "2023-11-28T20:16:32.965039",
          "status": "completed"
        },
        "tags": [],
        "id": "6791af69"
      },
      "source": [
        "# DT"
      ]
    },
    {
      "cell_type": "markdown",
      "id": "46495e58",
      "metadata": {
        "papermill": {
          "duration": 14.363838,
          "end_time": "2023-11-28T20:17:16.540464",
          "exception": false,
          "start_time": "2023-11-28T20:17:02.176626",
          "status": "completed"
        },
        "tags": [],
        "id": "46495e58"
      },
      "source": [
        "## DT for d_raw"
      ]
    },
    {
      "cell_type": "code",
      "execution_count": null,
      "id": "bbca286a",
      "metadata": {
        "execution": {
          "iopub.execute_input": "2023-11-28T20:17:45.649880Z",
          "iopub.status.busy": "2023-11-28T20:17:45.649411Z",
          "iopub.status.idle": "2023-11-28T20:17:46.337554Z",
          "shell.execute_reply": "2023-11-28T20:17:46.336301Z"
        },
        "papermill": {
          "duration": 15.074952,
          "end_time": "2023-11-28T20:17:46.340635",
          "exception": false,
          "start_time": "2023-11-28T20:17:31.265683",
          "status": "completed"
        },
        "tags": [],
        "id": "bbca286a"
      },
      "outputs": [],
      "source": [
        "dt_d_raw_preds = dt_model(d_raw_train, d_raw_test)"
      ]
    },
    {
      "cell_type": "markdown",
      "id": "14deff42",
      "metadata": {
        "papermill": {
          "duration": 14.458811,
          "end_time": "2023-11-28T20:18:15.599801",
          "exception": false,
          "start_time": "2023-11-28T20:18:01.140990",
          "status": "completed"
        },
        "tags": [],
        "id": "14deff42"
      },
      "source": [
        "## DT for d_raw_pca"
      ]
    },
    {
      "cell_type": "code",
      "execution_count": null,
      "id": "014432bf",
      "metadata": {
        "execution": {
          "iopub.execute_input": "2023-11-28T20:18:44.713546Z",
          "iopub.status.busy": "2023-11-28T20:18:44.713080Z",
          "iopub.status.idle": "2023-11-28T20:18:52.462286Z",
          "shell.execute_reply": "2023-11-28T20:18:52.460998Z"
        },
        "papermill": {
          "duration": 22.150649,
          "end_time": "2023-11-28T20:18:52.465296",
          "exception": false,
          "start_time": "2023-11-28T20:18:30.314647",
          "status": "completed"
        },
        "tags": [],
        "id": "014432bf"
      },
      "outputs": [],
      "source": [
        "dt_d_raw_pca_preds = dt_model(d_raw_pca_train, d_raw_pca_test)"
      ]
    },
    {
      "cell_type": "markdown",
      "id": "3b1b1c85",
      "metadata": {
        "papermill": {
          "duration": 14.283262,
          "end_time": "2023-11-28T20:19:21.571305",
          "exception": false,
          "start_time": "2023-11-28T20:19:07.288043",
          "status": "completed"
        },
        "tags": [],
        "id": "3b1b1c85"
      },
      "source": [
        "## DT for d_raw_norm"
      ]
    },
    {
      "cell_type": "code",
      "execution_count": null,
      "id": "9b0153bf",
      "metadata": {
        "execution": {
          "iopub.execute_input": "2023-11-28T20:19:50.858090Z",
          "iopub.status.busy": "2023-11-28T20:19:50.857637Z",
          "iopub.status.idle": "2023-11-28T20:19:51.543745Z",
          "shell.execute_reply": "2023-11-28T20:19:51.542274Z"
        },
        "papermill": {
          "duration": 15.098253,
          "end_time": "2023-11-28T20:19:51.546764",
          "exception": false,
          "start_time": "2023-11-28T20:19:36.448511",
          "status": "completed"
        },
        "tags": [],
        "id": "9b0153bf"
      },
      "outputs": [],
      "source": [
        "dt_d_raw_norm_preds = dt_model(d_raw_norm_train, d_raw_norm_test)"
      ]
    },
    {
      "cell_type": "markdown",
      "id": "40d4a87a",
      "metadata": {
        "papermill": {
          "duration": 14.287208,
          "end_time": "2023-11-28T20:20:20.680635",
          "exception": false,
          "start_time": "2023-11-28T20:20:06.393427",
          "status": "completed"
        },
        "tags": [],
        "id": "40d4a87a"
      },
      "source": [
        "## DT for d_raw_norm_pca"
      ]
    },
    {
      "cell_type": "code",
      "execution_count": null,
      "id": "3d0d9674",
      "metadata": {
        "execution": {
          "iopub.execute_input": "2023-11-28T20:20:49.778275Z",
          "iopub.status.busy": "2023-11-28T20:20:49.777741Z",
          "iopub.status.idle": "2023-11-28T20:20:56.252376Z",
          "shell.execute_reply": "2023-11-28T20:20:56.251174Z"
        },
        "papermill": {
          "duration": 20.772719,
          "end_time": "2023-11-28T20:20:56.255304",
          "exception": false,
          "start_time": "2023-11-28T20:20:35.482585",
          "status": "completed"
        },
        "tags": [],
        "id": "3d0d9674"
      },
      "outputs": [],
      "source": [
        "dt_d_raw_norm_pca_preds = dt_model(d_raw_norm_pca_train, d_raw_norm_pca_test)"
      ]
    },
    {
      "cell_type": "markdown",
      "id": "1f393adc",
      "metadata": {
        "papermill": {
          "duration": 14.367922,
          "end_time": "2023-11-28T20:21:25.512673",
          "exception": false,
          "start_time": "2023-11-28T20:21:11.144751",
          "status": "completed"
        },
        "tags": [],
        "id": "1f393adc"
      },
      "source": [
        "## DT for d_raw_probs"
      ]
    },
    {
      "cell_type": "code",
      "execution_count": null,
      "id": "3cadcaf7",
      "metadata": {
        "execution": {
          "iopub.execute_input": "2023-11-28T20:21:54.613853Z",
          "iopub.status.busy": "2023-11-28T20:21:54.613452Z",
          "iopub.status.idle": "2023-11-28T20:21:55.281984Z",
          "shell.execute_reply": "2023-11-28T20:21:55.280849Z"
        },
        "papermill": {
          "duration": 14.997827,
          "end_time": "2023-11-28T20:21:55.284800",
          "exception": false,
          "start_time": "2023-11-28T20:21:40.286973",
          "status": "completed"
        },
        "tags": [],
        "id": "3cadcaf7"
      },
      "outputs": [],
      "source": [
        "dt_d_raw_probs_preds = dt_model(d_raw_probs_train, d_raw_probs_test)"
      ]
    },
    {
      "cell_type": "markdown",
      "id": "e50bdebe",
      "metadata": {
        "papermill": {
          "duration": 14.311832,
          "end_time": "2023-11-28T20:22:24.374447",
          "exception": false,
          "start_time": "2023-11-28T20:22:10.062615",
          "status": "completed"
        },
        "tags": [],
        "id": "e50bdebe"
      },
      "source": [
        "## DT for d_raw_pca_probs"
      ]
    },
    {
      "cell_type": "code",
      "execution_count": null,
      "id": "315ba341",
      "metadata": {
        "execution": {
          "iopub.execute_input": "2023-11-28T20:22:53.569152Z",
          "iopub.status.busy": "2023-11-28T20:22:53.568610Z",
          "iopub.status.idle": "2023-11-28T20:22:59.400554Z",
          "shell.execute_reply": "2023-11-28T20:22:59.399366Z"
        },
        "papermill": {
          "duration": 20.217212,
          "end_time": "2023-11-28T20:22:59.403334",
          "exception": false,
          "start_time": "2023-11-28T20:22:39.186122",
          "status": "completed"
        },
        "tags": [],
        "id": "315ba341"
      },
      "outputs": [],
      "source": [
        "dt_d_raw_pca_probs_preds = dt_model(d_raw_pca_probs_train, d_raw_pca_probs_test)"
      ]
    },
    {
      "cell_type": "markdown",
      "id": "d88edeef",
      "metadata": {
        "papermill": {
          "duration": 14.325899,
          "end_time": "2023-11-28T20:23:28.619955",
          "exception": false,
          "start_time": "2023-11-28T20:23:14.294056",
          "status": "completed"
        },
        "tags": [],
        "id": "d88edeef"
      },
      "source": [
        "## DT for d_norm_probs"
      ]
    },
    {
      "cell_type": "code",
      "execution_count": null,
      "id": "ce6e26e7",
      "metadata": {
        "execution": {
          "iopub.execute_input": "2023-11-28T20:23:57.873999Z",
          "iopub.status.busy": "2023-11-28T20:23:57.873568Z",
          "iopub.status.idle": "2023-11-28T20:23:58.574666Z",
          "shell.execute_reply": "2023-11-28T20:23:58.573533Z"
        },
        "papermill": {
          "duration": 15.03487,
          "end_time": "2023-11-28T20:23:58.577789",
          "exception": false,
          "start_time": "2023-11-28T20:23:43.542919",
          "status": "completed"
        },
        "tags": [],
        "id": "ce6e26e7"
      },
      "outputs": [],
      "source": [
        "dt_d_norm_probs_preds = dt_model(d_norm_probs_train, d_norm_probs_test)"
      ]
    },
    {
      "cell_type": "markdown",
      "id": "0f31b496",
      "metadata": {
        "papermill": {
          "duration": 14.270947,
          "end_time": "2023-11-28T20:24:27.782594",
          "exception": false,
          "start_time": "2023-11-28T20:24:13.511647",
          "status": "completed"
        },
        "tags": [],
        "id": "0f31b496"
      },
      "source": [
        "## DT for d_norm_pca_probs"
      ]
    },
    {
      "cell_type": "code",
      "execution_count": null,
      "id": "b81a4f71",
      "metadata": {
        "execution": {
          "iopub.execute_input": "2023-11-28T20:24:56.947093Z",
          "iopub.status.busy": "2023-11-28T20:24:56.946622Z",
          "iopub.status.idle": "2023-11-28T20:25:02.911337Z",
          "shell.execute_reply": "2023-11-28T20:25:02.910016Z"
        },
        "papermill": {
          "duration": 20.197914,
          "end_time": "2023-11-28T20:25:02.914306",
          "exception": false,
          "start_time": "2023-11-28T20:24:42.716392",
          "status": "completed"
        },
        "tags": [],
        "id": "b81a4f71"
      },
      "outputs": [],
      "source": [
        "dt_d_norm_pca_probs_preds = dt_model(d_norm_pca_probs_train, d_norm_pca_probs_test)"
      ]
    },
    {
      "cell_type": "markdown",
      "id": "7495bbba",
      "metadata": {
        "papermill": {
          "duration": 14.406638,
          "end_time": "2023-11-28T20:25:32.273330",
          "exception": false,
          "start_time": "2023-11-28T20:25:17.866692",
          "status": "completed"
        },
        "tags": [],
        "id": "7495bbba"
      },
      "source": [
        "## MLP"
      ]
    },
    {
      "cell_type": "markdown",
      "id": "1ca99da2",
      "metadata": {
        "papermill": {
          "duration": 14.334103,
          "end_time": "2023-11-28T20:26:01.558658",
          "exception": false,
          "start_time": "2023-11-28T20:25:47.224555",
          "status": "completed"
        },
        "tags": [],
        "id": "1ca99da2"
      },
      "source": [
        "## MLP for d_raw"
      ]
    },
    {
      "cell_type": "code",
      "execution_count": null,
      "id": "f8da775c",
      "metadata": {
        "execution": {
          "iopub.execute_input": "2023-11-28T20:26:30.743835Z",
          "iopub.status.busy": "2023-11-28T20:26:30.743431Z",
          "iopub.status.idle": "2023-11-28T20:32:13.433098Z",
          "shell.execute_reply": "2023-11-28T20:32:13.431060Z"
        },
        "papermill": {
          "duration": 356.921297,
          "end_time": "2023-11-28T20:32:13.438241",
          "exception": false,
          "start_time": "2023-11-28T20:26:16.516944",
          "status": "completed"
        },
        "tags": [],
        "id": "f8da775c"
      },
      "outputs": [],
      "source": [
        "mlp_d_raw_preds = mlp_model(d_raw_train, d_raw_test)"
      ]
    },
    {
      "cell_type": "markdown",
      "id": "cc98ae25",
      "metadata": {
        "papermill": {
          "duration": 14.476422,
          "end_time": "2023-11-28T20:32:42.854985",
          "exception": false,
          "start_time": "2023-11-28T20:32:28.378563",
          "status": "completed"
        },
        "tags": [],
        "id": "cc98ae25"
      },
      "source": [
        "## MLP for d_raw_pca"
      ]
    },
    {
      "cell_type": "code",
      "execution_count": null,
      "id": "b105af6a",
      "metadata": {
        "execution": {
          "iopub.execute_input": "2023-11-28T20:33:12.263715Z",
          "iopub.status.busy": "2023-11-28T20:33:12.263258Z",
          "iopub.status.idle": "2023-11-28T20:34:19.711223Z",
          "shell.execute_reply": "2023-11-28T20:34:19.709459Z"
        },
        "papermill": {
          "duration": 82.375278,
          "end_time": "2023-11-28T20:34:19.716035",
          "exception": false,
          "start_time": "2023-11-28T20:32:57.340757",
          "status": "completed"
        },
        "tags": [],
        "id": "b105af6a"
      },
      "outputs": [],
      "source": [
        "mlp_d_raw_pca_preds = mlp_model(d_raw_pca_train, d_raw_pca_test)"
      ]
    },
    {
      "cell_type": "markdown",
      "id": "8963b399",
      "metadata": {
        "papermill": {
          "duration": 14.510778,
          "end_time": "2023-11-28T20:34:48.894439",
          "exception": false,
          "start_time": "2023-11-28T20:34:34.383661",
          "status": "completed"
        },
        "tags": [],
        "id": "8963b399"
      },
      "source": [
        "## MLP for d_raw_norm"
      ]
    },
    {
      "cell_type": "code",
      "execution_count": null,
      "id": "3f8d7ade",
      "metadata": {
        "execution": {
          "iopub.execute_input": "2023-11-28T20:35:18.468979Z",
          "iopub.status.busy": "2023-11-28T20:35:18.468475Z",
          "iopub.status.idle": "2023-11-28T20:41:52.102182Z",
          "shell.execute_reply": "2023-11-28T20:41:52.099927Z"
        },
        "papermill": {
          "duration": 408.627585,
          "end_time": "2023-11-28T20:41:52.108556",
          "exception": false,
          "start_time": "2023-11-28T20:35:03.480971",
          "status": "completed"
        },
        "tags": [],
        "id": "3f8d7ade"
      },
      "outputs": [],
      "source": [
        "mlp_d_raw_norm_preds = mlp_model(d_raw_norm_train, d_raw_norm_test)"
      ]
    },
    {
      "cell_type": "markdown",
      "id": "c47a5f4b",
      "metadata": {
        "papermill": {
          "duration": 14.343625,
          "end_time": "2023-11-28T20:42:21.163120",
          "exception": false,
          "start_time": "2023-11-28T20:42:06.819495",
          "status": "completed"
        },
        "tags": [],
        "id": "c47a5f4b"
      },
      "source": [
        "## MLP for d_raw_norm_pca"
      ]
    },
    {
      "cell_type": "code",
      "execution_count": null,
      "id": "b6a60267",
      "metadata": {
        "execution": {
          "iopub.execute_input": "2023-11-28T20:42:50.269973Z",
          "iopub.status.busy": "2023-11-28T20:42:50.269397Z",
          "iopub.status.idle": "2023-11-28T20:49:00.634347Z",
          "shell.execute_reply": "2023-11-28T20:49:00.632557Z"
        },
        "papermill": {
          "duration": 384.702793,
          "end_time": "2023-11-28T20:49:00.639588",
          "exception": false,
          "start_time": "2023-11-28T20:42:35.936795",
          "status": "completed"
        },
        "tags": [],
        "id": "b6a60267"
      },
      "outputs": [],
      "source": [
        "mlp_d_raw_norm_pca_preds = mlp_model(d_raw_norm_pca_train, d_raw_norm_pca_test)"
      ]
    },
    {
      "cell_type": "markdown",
      "id": "5737af5d",
      "metadata": {
        "papermill": {
          "duration": 14.516428,
          "end_time": "2023-11-28T20:49:29.770927",
          "exception": false,
          "start_time": "2023-11-28T20:49:15.254499",
          "status": "completed"
        },
        "tags": [],
        "id": "5737af5d"
      },
      "source": [
        "## MLP for d_raw_probs"
      ]
    },
    {
      "cell_type": "code",
      "execution_count": null,
      "id": "3efb8c6a",
      "metadata": {
        "execution": {
          "iopub.execute_input": "2023-11-28T20:49:58.922523Z",
          "iopub.status.busy": "2023-11-28T20:49:58.922108Z",
          "iopub.status.idle": "2023-11-28T20:51:48.656012Z",
          "shell.execute_reply": "2023-11-28T20:51:48.654215Z"
        },
        "papermill": {
          "duration": 124.027653,
          "end_time": "2023-11-28T20:51:48.661051",
          "exception": false,
          "start_time": "2023-11-28T20:49:44.633398",
          "status": "completed"
        },
        "tags": [],
        "id": "3efb8c6a"
      },
      "outputs": [],
      "source": [
        "mlp_d_raw_probs_preds = mlp_model(d_raw_probs_train, d_raw_probs_test)"
      ]
    },
    {
      "cell_type": "markdown",
      "id": "390b66ee",
      "metadata": {
        "papermill": {
          "duration": 14.329475,
          "end_time": "2023-11-28T20:52:17.899722",
          "exception": false,
          "start_time": "2023-11-28T20:52:03.570247",
          "status": "completed"
        },
        "tags": [],
        "id": "390b66ee"
      },
      "source": [
        "## MLP for d_raw_pca_probs"
      ]
    },
    {
      "cell_type": "code",
      "execution_count": null,
      "id": "65a6d807",
      "metadata": {
        "execution": {
          "iopub.execute_input": "2023-11-28T20:52:47.067774Z",
          "iopub.status.busy": "2023-11-28T20:52:47.067306Z",
          "iopub.status.idle": "2023-11-28T20:55:03.154573Z",
          "shell.execute_reply": "2023-11-28T20:55:03.152777Z"
        },
        "papermill": {
          "duration": 150.428436,
          "end_time": "2023-11-28T20:55:03.159578",
          "exception": false,
          "start_time": "2023-11-28T20:52:32.731142",
          "status": "completed"
        },
        "tags": [],
        "id": "65a6d807"
      },
      "outputs": [],
      "source": [
        "mlp_d_raw_pca_probs_preds = mlp_model(d_raw_pca_probs_train, d_raw_pca_probs_test)"
      ]
    },
    {
      "cell_type": "markdown",
      "id": "6081062f",
      "metadata": {
        "papermill": {
          "duration": 14.260263,
          "end_time": "2023-11-28T20:55:32.387529",
          "exception": false,
          "start_time": "2023-11-28T20:55:18.127266",
          "status": "completed"
        },
        "tags": [],
        "id": "6081062f"
      },
      "source": [
        "## MLP for d_norm_probs"
      ]
    },
    {
      "cell_type": "code",
      "execution_count": null,
      "id": "d745ad85",
      "metadata": {
        "execution": {
          "iopub.execute_input": "2023-11-28T20:56:01.828473Z",
          "iopub.status.busy": "2023-11-28T20:56:01.828065Z",
          "iopub.status.idle": "2023-11-28T20:58:16.382384Z",
          "shell.execute_reply": "2023-11-28T20:58:16.380556Z"
        },
        "papermill": {
          "duration": 149.29165,
          "end_time": "2023-11-28T20:58:16.387735",
          "exception": false,
          "start_time": "2023-11-28T20:55:47.096085",
          "status": "completed"
        },
        "tags": [],
        "id": "d745ad85"
      },
      "outputs": [],
      "source": [
        "mlp_d_norm_probs_preds = mlp_model(d_norm_probs_train, d_norm_probs_test)"
      ]
    },
    {
      "cell_type": "markdown",
      "id": "ccbe9d94",
      "metadata": {
        "papermill": {
          "duration": 14.821166,
          "end_time": "2023-11-28T20:58:45.781490",
          "exception": false,
          "start_time": "2023-11-28T20:58:30.960324",
          "status": "completed"
        },
        "tags": [],
        "id": "ccbe9d94"
      },
      "source": [
        "## MLP for d_norm_pca_probs"
      ]
    },
    {
      "cell_type": "code",
      "execution_count": null,
      "id": "10d34aec",
      "metadata": {
        "execution": {
          "iopub.execute_input": "2023-11-28T20:59:14.667085Z",
          "iopub.status.busy": "2023-11-28T20:59:14.666559Z",
          "iopub.status.idle": "2023-11-28T21:00:39.510965Z",
          "shell.execute_reply": "2023-11-28T21:00:39.509284Z"
        },
        "papermill": {
          "duration": 99.40657,
          "end_time": "2023-11-28T21:00:39.515663",
          "exception": false,
          "start_time": "2023-11-28T20:59:00.109093",
          "status": "completed"
        },
        "tags": [],
        "id": "10d34aec"
      },
      "outputs": [],
      "source": [
        "mlp_d_norm_pca_probs_preds = mlp_model(d_norm_pca_probs_train, d_norm_pca_probs_test)"
      ]
    },
    {
      "cell_type": "markdown",
      "id": "9821e332",
      "metadata": {
        "papermill": {
          "duration": 14.93409,
          "end_time": "2023-11-28T21:01:08.993104",
          "exception": false,
          "start_time": "2023-11-28T21:00:54.059014",
          "status": "completed"
        },
        "tags": [],
        "id": "9821e332"
      },
      "source": [
        "# Evaluation"
      ]
    },
    {
      "cell_type": "code",
      "execution_count": null,
      "id": "b5e717f7",
      "metadata": {
        "execution": {
          "iopub.execute_input": "2023-11-28T21:01:37.987523Z",
          "iopub.status.busy": "2023-11-28T21:01:37.986881Z",
          "iopub.status.idle": "2023-11-28T21:01:37.993385Z",
          "shell.execute_reply": "2023-11-28T21:01:37.992176Z"
        },
        "papermill": {
          "duration": 14.384396,
          "end_time": "2023-11-28T21:01:37.995845",
          "exception": false,
          "start_time": "2023-11-28T21:01:23.611449",
          "status": "completed"
        },
        "tags": [],
        "id": "b5e717f7"
      },
      "outputs": [],
      "source": [
        "def f1(y_true, y_pred):\n",
        "    return f1_score(y_true, y_pred)"
      ]
    },
    {
      "cell_type": "code",
      "execution_count": null,
      "id": "d41435ca",
      "metadata": {
        "execution": {
          "iopub.execute_input": "2023-11-28T21:02:06.992733Z",
          "iopub.status.busy": "2023-11-28T21:02:06.992262Z",
          "iopub.status.idle": "2023-11-28T21:02:07.012358Z",
          "shell.execute_reply": "2023-11-28T21:02:07.011391Z"
        },
        "papermill": {
          "duration": 14.526748,
          "end_time": "2023-11-28T21:02:07.015495",
          "exception": false,
          "start_time": "2023-11-28T21:01:52.488747",
          "status": "completed"
        },
        "tags": [],
        "id": "d41435ca"
      },
      "outputs": [],
      "source": [
        "f1(test_target, mlp_d_raw_preds)"
      ]
    },
    {
      "cell_type": "code",
      "source": [
        "f1(test_target, kmd_d_raw_preds )"
      ],
      "metadata": {
        "id": "Pheal9CTEzBh"
      },
      "id": "Pheal9CTEzBh",
      "execution_count": null,
      "outputs": []
    },
    {
      "cell_type": "code",
      "source": [
        "f1(test_target, svm_d_raw_preds )"
      ],
      "metadata": {
        "id": "SmA7iwTcGpsQ"
      },
      "id": "SmA7iwTcGpsQ",
      "execution_count": null,
      "outputs": []
    },
    {
      "cell_type": "code",
      "source": [
        "f1(test_target, kmc_d_raw_preds )"
      ],
      "metadata": {
        "id": "Ap5m_B7mGpf1"
      },
      "id": "Ap5m_B7mGpf1",
      "execution_count": null,
      "outputs": []
    },
    {
      "cell_type": "code",
      "source": [
        "f1(test_target, dt_d_raw_preds )"
      ],
      "metadata": {
        "id": "SIoiqxJwGpMW"
      },
      "id": "SIoiqxJwGpMW",
      "execution_count": null,
      "outputs": []
    },
    {
      "cell_type": "code",
      "source": [
        "f1(test_target, voting_d_raw_preds   )"
      ],
      "metadata": {
        "id": "yWOQ5uNqG_aR"
      },
      "id": "yWOQ5uNqG_aR",
      "execution_count": null,
      "outputs": []
    },
    {
      "cell_type": "code",
      "source": [
        "# Créer un DataFrame avec les prédictions et les noms des modèles\n",
        "results_df = pd.DataFrame({\n",
        "    'Model': ['Voting', 'KMD', 'SVM', 'KMC', 'Decision Tree', 'MLP'],\n",
        "    'F1 Score': [\n",
        "        f1(test_target, voting_d_raw_preds ),\n",
        "        f1(test_target, kmd_d_raw_preds ),\n",
        "        f1(test_target, svm_d_raw_preds),\n",
        "        f1(test_target, kmc_d_raw_preds),\n",
        "        f1(test_target, dt_d_raw_preds),\n",
        "        f1(test_target, mlp_d_raw_preds),\n",
        "    ]\n",
        "})\n",
        "\n",
        "# Afficher le tableau des résultats\n",
        "print(results_df)"
      ],
      "metadata": {
        "id": "Z0NU4dfFIAEn"
      },
      "id": "Z0NU4dfFIAEn",
      "execution_count": null,
      "outputs": []
    },
    {
      "cell_type": "code",
      "execution_count": null,
      "id": "3d3cfde9",
      "metadata": {
        "execution": {
          "iopub.execute_input": "2023-11-28T21:02:36.434038Z",
          "iopub.status.busy": "2023-11-28T21:02:36.433585Z",
          "iopub.status.idle": "2023-11-28T21:02:36.440436Z",
          "shell.execute_reply": "2023-11-28T21:02:36.439121Z"
        },
        "papermill": {
          "duration": 14.880012,
          "end_time": "2023-11-28T21:02:36.443082",
          "exception": false,
          "start_time": "2023-11-28T21:02:21.563070",
          "status": "completed"
        },
        "tags": [],
        "id": "3d3cfde9"
      },
      "outputs": [],
      "source": [
        "def sensitivity(y_true, y_pred):\n",
        "    tp = sum((y_true == 1) & (y_pred == 1))\n",
        "    fn = sum((y_true == 1) & (y_pred == 0))\n",
        "\n",
        "    sensitivity_score = tp / (tp + fn) if (tp + fn) > 0 else 0.0\n",
        "\n",
        "    return sensitivity_score"
      ]
    },
    {
      "cell_type": "code",
      "execution_count": null,
      "id": "fd28a91c",
      "metadata": {
        "execution": {
          "iopub.execute_input": "2023-11-28T21:03:05.391556Z",
          "iopub.status.busy": "2023-11-28T21:03:05.391079Z",
          "iopub.status.idle": "2023-11-28T21:03:05.405063Z",
          "shell.execute_reply": "2023-11-28T21:03:05.404156Z"
        },
        "papermill": {
          "duration": 14.591279,
          "end_time": "2023-11-28T21:03:05.407557",
          "exception": false,
          "start_time": "2023-11-28T21:02:50.816278",
          "status": "completed"
        },
        "tags": [],
        "id": "fd28a91c"
      },
      "outputs": [],
      "source": [
        "sensitivity(test_target, mlp_d_raw_preds)"
      ]
    },
    {
      "cell_type": "code",
      "source": [
        "# Créer un DataFrame avec les prédictions et les noms des modèles\n",
        "results_df_sens1 = pd.DataFrame({\n",
        "    'Model': ['Voting', 'KMD', 'SVM', 'KMC', 'Decision Tree', 'MLP'],\n",
        "    'sensitivity': [\n",
        "        sensitivity(test_target, voting_d_raw_preds ),\n",
        "        sensitivity(test_target, kmd_d_raw_preds ),\n",
        "        sensitivity(test_target, svm_d_raw_preds),\n",
        "        sensitivity(test_target, kmc_d_raw_preds),\n",
        "        sensitivity(test_target, dt_d_raw_preds),\n",
        "        sensitivity(test_target, mlp_d_raw_preds),\n",
        "    ]\n",
        "})\n",
        "\n",
        "# Afficher le tableau des résultats\n",
        "print(results_df_sens1)"
      ],
      "metadata": {
        "id": "23wSSQXqINr8"
      },
      "id": "23wSSQXqINr8",
      "execution_count": null,
      "outputs": []
    },
    {
      "cell_type": "code",
      "source": [
        "from sklearn.metrics import auc, roc_curve\n",
        "\n",
        "def calculate_cap(y_true, y_prob):\n",
        "    sorted_indices = np.argsort(y_prob)[::-1]\n",
        "    cum_positive = np.cumsum(y_true[sorted_indices])\n",
        "    cum_total = np.arange(1, len(y_true) + 1)\n",
        "    cap = cum_positive / np.sum(y_true)\n",
        "    return cum_total, cap"
      ],
      "metadata": {
        "id": "ZL61JFYhIiFi"
      },
      "id": "ZL61JFYhIiFi",
      "execution_count": null,
      "outputs": []
    },
    {
      "cell_type": "code",
      "source": [
        "from sklearn.metrics import roc_auc_score\n",
        "\n",
        "auc_score = roc_auc_score(test_target, mlp_d_raw_preds)\n",
        "print(f\"AUC Score: {auc_score}\")\n",
        "\n"
      ],
      "metadata": {
        "id": "VnOxuSy8OARU"
      },
      "id": "VnOxuSy8OARU",
      "execution_count": null,
      "outputs": []
    },
    {
      "cell_type": "code",
      "source": [
        "import pandas as pd\n",
        "from sklearn.metrics import roc_auc_score\n",
        "\n",
        "# Calculer les AUC pour chaque modèle\n",
        "auc_mlp = roc_auc_score(test_target, mlp_d_raw_preds)\n",
        "auc_svm = roc_auc_score(test_target, svm_d_raw_preds)\n",
        "auc_dt = roc_auc_score(test_target, dt_d_raw_preds)\n",
        "auc_kmc = roc_auc_score(test_target, kmc_d_raw_preds)\n",
        "auc_kmd = roc_auc_score(test_target, kmd_d_raw_preds)\n",
        "auc_voting = roc_auc_score(test_target, voting_d_raw_preds)\n",
        "\n",
        "# Créer un DataFrame avec les prédictions et les noms des modèles\n",
        "results_df_cap1 = pd.DataFrame({\n",
        "    'Model': ['Voting', 'KMD', 'SVM', 'KMC', 'Decision Tree', 'MLP'],\n",
        "    'CAP': [auc_voting, auc_kmd, auc_svm, auc_kmc, auc_dt, auc_mlp]\n",
        "})\n",
        "\n",
        "# Afficher le tableau des résultats\n",
        "print(results_df_cap1)\n"
      ],
      "metadata": {
        "id": "oCy5pV7tOQQ0"
      },
      "id": "oCy5pV7tOQQ0",
      "execution_count": null,
      "outputs": []
    },
    {
      "cell_type": "code",
      "source": [
        "# Concaténer les trois DataFrames le long de l'axe des colonnes\n",
        "final_result_df = pd.concat([results_df_cap1, results_df_sens1, results_df], axis=1)\n",
        "\n",
        "# Afficher le tableau des résultats final\n",
        "print(final_result_df)\n",
        "\n"
      ],
      "metadata": {
        "id": "62yxO2iBTBEN"
      },
      "id": "62yxO2iBTBEN",
      "execution_count": null,
      "outputs": []
    },
    {
      "cell_type": "code",
      "source": [
        "# Créer un DataFrame avec les prédictions et les noms des modèles\n",
        "results_df = pd.DataFrame({\n",
        "    'Model': [ 'KMD', 'SVM', 'KMC', 'Decision Tree', 'MLP'],\n",
        "    'F1 Score': [\n",
        "\n",
        "        f1(test_target, kmd_d_raw_preds ),\n",
        "        f1(test_target, svm_d_raw_preds),\n",
        "        f1(test_target, kmc_d_raw_preds),\n",
        "        f1(test_target, dt_d_raw_preds),\n",
        "        f1(test_target, mlp_d_raw_preds),\n",
        "    ]\n",
        "})\n",
        "results_df_sens = pd.DataFrame({\n",
        "    'Model': [ 'KMD', 'SVM', 'KMC', 'Decision Tree', 'MLP'],\n",
        "    'sensitivity': [\n",
        "\n",
        "        sensitivity(test_target, kmd_d_raw_preds ),\n",
        "        sensitivity(test_target, svm_d_raw_preds),\n",
        "        sensitivity(test_target, kmc_d_raw_preds),\n",
        "        sensitivity(test_target, dt_d_raw_preds),\n",
        "        sensitivity(test_target, mlp_d_raw_preds),\n",
        "    ]\n",
        "})\n",
        "# Calculer les AUC pour chaque modèle\n",
        "\n",
        "auc_kmd = roc_auc_score(test_target, kmd_d_raw_preds)\n",
        "auc_svm = roc_auc_score(test_target, svm_d_raw_preds)\n",
        "auc_kmc = roc_auc_score(test_target, kmc_d_raw_preds)\n",
        "auc_dt = roc_auc_score(test_target, dt_d_raw_preds)\n",
        "auc_mlp = roc_auc_score(test_target, mlp_d_raw_preds)\n",
        "\n",
        "# Créer un DataFrame avec les prédictions et les noms des modèles\n",
        "results_df_cap = pd.DataFrame({\n",
        "    'Model': [ 'KMD', 'SVM', 'KMC', 'Decision Tree', 'MLP'],\n",
        "    'CAP': [ auc_kmd, auc_svm, auc_kmc, auc_dt, auc_mlp]\n",
        "})\n",
        "\n",
        "# Afficher le tableau des résultats\n",
        "\n",
        "\n",
        "# Afficher le tableau des résultats\n",
        "print(results_df)\n",
        "print(results_df_sens)\n",
        "print(results_df_cap)"
      ],
      "metadata": {
        "id": "mmlCvTk8rqPL"
      },
      "id": "mmlCvTk8rqPL",
      "execution_count": null,
      "outputs": []
    },
    {
      "cell_type": "code",
      "source": [
        "# Créer un DataFrame avec les prédictions et les noms des modèles\n",
        "results_df2 = pd.DataFrame({\n",
        "    'Model': ['Voting', 'KMD', 'SVM', 'KMC', 'Decision Tree', 'MLP'],\n",
        "    'F1 Score': [\n",
        "        f1(test_target, voting_d_raw_preds1 ),\n",
        "        f1(test_target, kmd_d_raw_pca_preds ),\n",
        "        f1(test_target, svm_d_raw_pca_preds),\n",
        "        f1(test_target, kmc_d_raw_pca_preds),\n",
        "        f1(test_target, dt_d_raw_pca_preds),\n",
        "        f1(test_target, mlp_d_raw_pca_preds),\n",
        "    ]\n",
        "})\n",
        "results_df_sens2 = pd.DataFrame({\n",
        "    'Model': ['Voting', 'KMD', 'SVM', 'KMC', 'Decision Tree', 'MLP'],\n",
        "    'sensitivity': [\n",
        "        sensitivity(test_target, voting_d_raw_preds1 ),\n",
        "        sensitivity(test_target, kmd_d_raw_pca_preds ),\n",
        "        sensitivity(test_target, svm_d_raw_pca_preds),\n",
        "        sensitivity(test_target, kmc_d_raw_pca_preds),\n",
        "        sensitivity(test_target, dt_d_raw_pca_preds),\n",
        "        sensitivity(test_target, mlp_d_raw_pca_preds),\n",
        "    ]\n",
        "})\n",
        "# Calculer les AUC pour chaque modèle\n",
        "auc_voting2 = roc_auc_score(test_target, voting_d_raw_preds1)\n",
        "auc_kmd2 = roc_auc_score(test_target, kmd_d_raw_pca_preds)\n",
        "auc_svm2 = roc_auc_score(test_target, svm_d_raw_pca_preds)\n",
        "auc_kmc2 = roc_auc_score(test_target, kmc_d_raw_pca_preds)\n",
        "auc_dt2 = roc_auc_score(test_target, dt_d_raw_pca_preds)\n",
        "auc_mlp2 = roc_auc_score(test_target, mlp_d_raw_pca_preds)\n",
        "\n",
        "# Créer un DataFrame avec les prédictions et les noms des modèles\n",
        "results_df_cap2 = pd.DataFrame({\n",
        "    'Model': ['Voting', 'KMD', 'SVM', 'KMC', 'Decision Tree', 'MLP'],\n",
        "    'CAP': [auc_voting2, auc_kmd2, auc_svm2, auc_kmc2, auc_dt2, auc_mlp2]\n",
        "})\n",
        "\n",
        "# Afficher le tableau des résultats\n",
        "\n",
        "\n",
        "# Afficher le tableau des résultats\n",
        "print(results_df2)\n",
        "print(results_df_sens2)\n",
        "print(results_df_cap2)"
      ],
      "metadata": {
        "id": "g_aAJXTzVruP"
      },
      "id": "g_aAJXTzVruP",
      "execution_count": null,
      "outputs": []
    },
    {
      "cell_type": "code",
      "source": [
        "# Créer un DataFrame avec les prédictions et les noms des modèles\n",
        "results_df3 = pd.DataFrame({\n",
        "    'Model': [ 'KMD', 'SVM', 'KMC', 'Decision Tree', 'MLP'],\n",
        "    'F1 Score': [\n",
        "\n",
        "        f1(test_target, kmd_d_raw_norm_preds ),\n",
        "        f1(test_target, svm_d_raw_norm_preds),\n",
        "        f1(test_target, kmc_d_raw_norm_preds),\n",
        "        f1(test_target, dt_d_raw_norm_preds),\n",
        "        f1(test_target, mlp_d_raw_norm_preds),\n",
        "    ]\n",
        "})\n",
        "results_df_sens3 = pd.DataFrame({\n",
        "    'Model': [ 'KMD', 'SVM', 'KMC', 'Decision Tree', 'MLP'],\n",
        "    'sensitivity': [\n",
        "\n",
        "        sensitivity(test_target, kmd_d_raw_norm_preds ),\n",
        "        sensitivity(test_target, svm_d_raw_norm_preds),\n",
        "        sensitivity(test_target, kmc_d_raw_norm_preds),\n",
        "        sensitivity(test_target, dt_d_raw_norm_preds),\n",
        "        sensitivity(test_target, mlp_d_raw_norm_preds),\n",
        "    ]\n",
        "})\n",
        "# Calculer les AUC pour chaque modèle\n",
        "\n",
        "auc_kmd3 = roc_auc_score(test_target, kmd_d_raw_norm_preds)\n",
        "auc_svm3 = roc_auc_score(test_target, svm_d_raw_norm_preds)\n",
        "auc_kmc3 = roc_auc_score(test_target, kmc_d_raw_norm_preds)\n",
        "auc_dt3 = roc_auc_score(test_target, dt_d_raw_norm_preds)\n",
        "auc_mlp3 = roc_auc_score(test_target, mlp_d_raw_norm_preds)\n",
        "\n",
        "# Créer un DataFrame avec les prédictions et les noms des modèles\n",
        "results_df_cap3 = pd.DataFrame({\n",
        "    'Model': [ 'KMD', 'SVM', 'KMC', 'Decision Tree', 'MLP'],\n",
        "    'CAP': [ auc_kmd3, auc_svm3, auc_kmc3, auc_dt3, auc_mlp3]\n",
        "})\n",
        "\n",
        "# Afficher le tableau des résultats\n",
        "\n",
        "\n",
        "# Afficher le tableau des résultats\n",
        "print(results_df3)\n",
        "print(results_df_sens3)\n",
        "print(results_df_cap3)"
      ],
      "metadata": {
        "id": "kpGx6UNYTo3J"
      },
      "id": "kpGx6UNYTo3J",
      "execution_count": null,
      "outputs": []
    },
    {
      "cell_type": "code",
      "source": [
        "# Créer un DataFrame avec les prédictions et les noms des modèles\n",
        "results_df4 = pd.DataFrame({\n",
        "    'Model': ['Voting', 'KMD', 'SVM', 'KMC', 'Decision Tree', 'MLP'],\n",
        "    'F1 Score': [\n",
        "        f1(test_target, voting_d_raw_pac_preds2 ),\n",
        "        f1(test_target, kmd_d_raw_norm_pca_preds ),\n",
        "        f1(test_target, svm_d_raw_norm_pca_preds),\n",
        "        f1(test_target, kmc_d_raw_norm_pca_preds),\n",
        "        f1(test_target, dt_d_raw_norm_pca_preds),\n",
        "        f1(test_target, mlp_d_raw_norm_pca_preds),\n",
        "    ]\n",
        "})\n",
        "results_df_sens4 = pd.DataFrame({\n",
        "    'Model': ['Voting', 'KMD', 'SVM', 'KMC', 'Decision Tree', 'MLP'],\n",
        "    'sensitivity': [\n",
        "        sensitivity(test_target, voting_d_raw_pac_preds2 ),\n",
        "        sensitivity(test_target, kmd_d_raw_norm_pca_preds ),\n",
        "        sensitivity(test_target, svm_d_raw_norm_pca_preds),\n",
        "        sensitivity(test_target, kmc_d_raw_norm_pca_preds),\n",
        "        sensitivity(test_target, dt_d_raw_norm_pca_preds),\n",
        "        sensitivity(test_target, mlp_d_raw_norm_pca_preds),\n",
        "    ]\n",
        "})\n",
        "# Calculer les AUC pour chaque modèle\n",
        "auc_voting4 = roc_auc_score(test_target, voting_d_raw_pac_preds2)\n",
        "auc_kmd4 = roc_auc_score(test_target, kmd_d_raw_norm_pca_preds)\n",
        "auc_svm4 = roc_auc_score(test_target, svm_d_raw_norm_pca_preds)\n",
        "auc_kmc4 = roc_auc_score(test_target, kmc_d_raw_norm_pca_preds)\n",
        "auc_dt4 = roc_auc_score(test_target, dt_d_raw_norm_pca_preds)\n",
        "auc_mlp4 = roc_auc_score(test_target, mlp_d_raw_norm_pca_preds)\n",
        "\n",
        "# Créer un DataFrame avec les prédictions et les noms des modèles\n",
        "results_df_cap4 = pd.DataFrame({\n",
        "    'Model': ['Voting', 'KMD', 'SVM', 'KMC', 'Decision Tree', 'MLP'],\n",
        "    'CAP': [auc_voting4, auc_kmd4, auc_svm4, auc_kmc4, auc_dt4, auc_mlp4]\n",
        "})\n",
        "\n",
        "# Afficher le tableau des résultats\n",
        "\n",
        "\n",
        "# Afficher le tableau des résultats\n",
        "print(results_df4)\n",
        "print(results_df_sens4)\n",
        "print(results_df_cap4)"
      ],
      "metadata": {
        "id": "2rnJ6SBYXJAw"
      },
      "id": "2rnJ6SBYXJAw",
      "execution_count": null,
      "outputs": []
    },
    {
      "cell_type": "code",
      "source": [
        "# Créer un DataFrame avec les prédictions et les noms des modèles\n",
        "results_df5 = pd.DataFrame({\n",
        "    'Model': [ 'KMD', 'SVM', 'KMC', 'Decision Tree', 'MLP'],\n",
        "    'F1 Score': [\n",
        "\n",
        "        f1(test_target, kmd_d_raw_probs_preds ),\n",
        "        f1(test_target, svm_d_raw_probs_preds),\n",
        "        f1(test_target, kmc_d_raw_probs_preds),\n",
        "        f1(test_target, dt_d_raw_probs_preds),\n",
        "        f1(test_target, mlp_d_raw_probs_preds),\n",
        "    ]\n",
        "})\n",
        "results_df_sens5 = pd.DataFrame({\n",
        "    'Model': ['KMD', 'SVM', 'KMC', 'Decision Tree', 'MLP'],\n",
        "    'sensitivity': [\n",
        "\n",
        "        sensitivity(test_target, kmd_d_raw_probs_preds ),\n",
        "        sensitivity(test_target, svm_d_raw_probs_preds),\n",
        "        sensitivity(test_target, kmc_d_raw_probs_preds),\n",
        "        sensitivity(test_target, dt_d_raw_probs_preds),\n",
        "        sensitivity(test_target, mlp_d_raw_probs_preds),\n",
        "    ]\n",
        "})\n",
        "# Calculer les AUC pour chaque modèle\n",
        "\n",
        "auc_kmd5 = roc_auc_score(test_target, kmd_d_raw_probs_preds)\n",
        "auc_svm5 = roc_auc_score(test_target, svm_d_raw_probs_preds)\n",
        "auc_kmc5 = roc_auc_score(test_target, kmc_d_raw_probs_preds)\n",
        "auc_dt5 = roc_auc_score(test_target, dt_d_raw_probs_preds)\n",
        "auc_mlp5 = roc_auc_score(test_target, mlp_d_raw_probs_preds)\n",
        "\n",
        "# Créer un DataFrame avec les prédictions et les noms des modèles\n",
        "results_df_cap5 = pd.DataFrame({\n",
        "    'Model': [ 'KMD', 'SVM', 'KMC', 'Decision Tree', 'MLP'],\n",
        "    'CAP': [ auc_kmd5, auc_svm5, auc_kmc5, auc_dt5, auc_mlp5]\n",
        "})\n",
        "\n",
        "# Afficher le tableau des résultats\n",
        "\n",
        "\n",
        "# Afficher le tableau des résultats\n",
        "print(results_df5)\n",
        "print(results_df_sens5)\n",
        "print(results_df_cap5)"
      ],
      "metadata": {
        "id": "tCR-c6vXnGZK"
      },
      "id": "tCR-c6vXnGZK",
      "execution_count": null,
      "outputs": []
    },
    {
      "cell_type": "code",
      "source": [
        "# Créer un DataFrame avec les prédictions et les noms des modèles\n",
        "results_df6 = pd.DataFrame({\n",
        "    'Model': ['Voting', 'KMD', 'SVM', 'KMC', 'Decision Tree', 'MLP'],\n",
        "    'F1 Score': [\n",
        "        f1(test_target, voting_d_raw_norm_preds3 ),\n",
        "        f1(test_target, kmd_d_raw_pca_probs_preds ),\n",
        "        f1(test_target, svm_d_raw_pca_probs_preds),\n",
        "        f1(test_target, kmc_d_raw_pca_probs_preds),\n",
        "        f1(test_target, dt_d_raw_pca_probs_preds),\n",
        "        f1(test_target, mlp_d_raw_pca_probs_preds),\n",
        "    ]\n",
        "})\n",
        "results_df_sens6 = pd.DataFrame({\n",
        "    'Model': ['Voting', 'KMD', 'SVM', 'KMC', 'Decision Tree', 'MLP'],\n",
        "    'sensitivity': [\n",
        "        sensitivity(test_target, voting_d_raw_norm_preds3 ),\n",
        "        sensitivity(test_target, kmd_d_raw_pca_probs_preds ),\n",
        "        sensitivity(test_target, svm_d_raw_pca_probs_preds),\n",
        "        sensitivity(test_target, kmc_d_raw_pca_probs_preds),\n",
        "        sensitivity(test_target, dt_d_raw_pca_probs_preds),\n",
        "        sensitivity(test_target, mlp_d_raw_pca_probs_preds),\n",
        "    ]\n",
        "})\n",
        "# Calculer les AUC pour chaque modèle\n",
        "auc_voting6 = roc_auc_score(test_target, voting_d_raw_norm_preds3)\n",
        "auc_kmd6 = roc_auc_score(test_target, kmd_d_raw_pca_probs_preds)\n",
        "auc_svm6 = roc_auc_score(test_target, svm_d_raw_pca_probs_preds)\n",
        "auc_kmc6 = roc_auc_score(test_target, kmc_d_raw_pca_probs_preds)\n",
        "auc_dt6 = roc_auc_score(test_target, dt_d_raw_pca_probs_preds)\n",
        "auc_mlp6 = roc_auc_score(test_target, mlp_d_raw_pca_probs_preds)\n",
        "\n",
        "# Créer un DataFrame avec les prédictions et les noms des modèles\n",
        "results_df_cap6 = pd.DataFrame({\n",
        "    'Model': ['Voting', 'KMD', 'SVM', 'KMC', 'Decision Tree', 'MLP'],\n",
        "    'CAP': [auc_voting6, auc_kmd6, auc_svm6, auc_kmc6, auc_dt6, auc_mlp6]\n",
        "})\n",
        "\n",
        "# Afficher le tableau des résultats\n",
        "\n",
        "\n",
        "# Afficher le tableau des résultats\n",
        "print(results_df6)\n",
        "print(results_df_sens6)\n",
        "print(results_df_cap6)"
      ],
      "metadata": {
        "id": "8edhN_HJnHg4"
      },
      "id": "8edhN_HJnHg4",
      "execution_count": null,
      "outputs": []
    },
    {
      "cell_type": "code",
      "source": [
        "# Créer un DataFrame avec les prédictions et les noms des modèles\n",
        "results_df7 = pd.DataFrame({\n",
        "    'Model': ['KMD', 'SVM', 'KMC', 'Decision Tree', 'MLP'],\n",
        "    'F1 Score': [\n",
        "\n",
        "        f1(test_target, kmd_d_raw_norm_probs_preds ),\n",
        "        f1(test_target, svm_d_norm_probs_preds),\n",
        "        f1(test_target, kmc_d_norm_probs_preds),\n",
        "        f1(test_target, dt_d_norm_probs_preds),\n",
        "        f1(test_target, mlp_d_norm_probs_preds),\n",
        "    ]\n",
        "})\n",
        "results_df_sens7 = pd.DataFrame({\n",
        "    'Model': [ 'KMD', 'SVM', 'KMC', 'Decision Tree', 'MLP'],\n",
        "    'sensitivity': [\n",
        "\n",
        "        sensitivity(test_target, kmd_d_raw_norm_probs_preds ),\n",
        "        sensitivity(test_target, svm_d_norm_probs_preds),\n",
        "        sensitivity(test_target, kmc_d_norm_probs_preds),\n",
        "        sensitivity(test_target, dt_d_norm_probs_preds),\n",
        "        sensitivity(test_target, mlp_d_norm_probs_preds),\n",
        "    ]\n",
        "})\n",
        "# Calculer les AUC pour chaque modèle\n",
        "\n",
        "auc_kmd7 = roc_auc_score(test_target, kmd_d_raw_norm_probs_preds)\n",
        "auc_svm7 = roc_auc_score(test_target, svm_d_norm_probs_preds)\n",
        "auc_kmc7 = roc_auc_score(test_target, kmc_d_norm_probs_preds)\n",
        "auc_dt7 = roc_auc_score(test_target, dt_d_norm_probs_preds)\n",
        "auc_mlp7 = roc_auc_score(test_target, mlp_d_norm_probs_preds)\n",
        "\n",
        "# Créer un DataFrame avec les prédictions et les noms des modèles\n",
        "results_df_cap7 = pd.DataFrame({\n",
        "    'Model': [ 'KMD', 'SVM', 'KMC', 'Decision Tree', 'MLP'],\n",
        "    'CAP': [ auc_kmd7, auc_svm7, auc_kmc7, auc_dt7, auc_mlp7]\n",
        "})\n",
        "\n",
        "# Afficher le tableau des résultats\n",
        "\n",
        "\n",
        "# Afficher le tableau des résultats\n",
        "print(results_df7)\n",
        "print(results_df_sens7)\n",
        "print(results_df_cap7)"
      ],
      "metadata": {
        "id": "qBgCkLrHv4We"
      },
      "id": "qBgCkLrHv4We",
      "execution_count": null,
      "outputs": []
    },
    {
      "cell_type": "code",
      "source": [
        "# Créer un DataFrame avec les prédictions et les noms des modèles\n",
        "results_df8 = pd.DataFrame({\n",
        "    'Model': ['Voting', 'KMD', 'SVM', 'KMC', 'Decision Tree', 'MLP'],\n",
        "    'F1 Score': [\n",
        "        f1(test_target, voting_d_raw_norm_pac_preds4),\n",
        "        f1(test_target, kmd_d_raw_norm_pca_probs_preds),\n",
        "        f1(test_target, svm_d_norm_pca_probs_preds),\n",
        "        f1(test_target, kmc_d_norm_pca_probs_preds),\n",
        "        f1(test_target, dt_d_norm_pca_probs_preds),\n",
        "        f1(test_target, mlp_d_norm_pca_probs_preds),\n",
        "    ]\n",
        "})\n",
        "\n",
        "results_df_sens8 = pd.DataFrame({\n",
        "    'Model': ['Voting', 'KMD', 'SVM', 'KMC', 'Decision Tree', 'MLP'],\n",
        "    'sensitivity': [\n",
        "        sensitivity(test_target, voting_d_raw_norm_pac_preds4),\n",
        "        sensitivity(test_target, kmd_d_raw_norm_pca_probs_preds),\n",
        "        sensitivity(test_target, svm_d_norm_pca_probs_preds),\n",
        "        sensitivity(test_target, kmc_d_norm_pca_probs_preds),\n",
        "        sensitivity(test_target, dt_d_norm_pca_probs_preds),\n",
        "        sensitivity(test_target, mlp_d_norm_pca_probs_preds),\n",
        "    ]\n",
        "})\n",
        "\n",
        "# Calculer les AUC pour chaque modèle\n",
        "auc_voting8 = roc_auc_score(test_target, voting_d_raw_norm_pac_preds4)\n",
        "auc_kmd8 = roc_auc_score(test_target, kmd_d_raw_norm_pca_probs_preds)\n",
        "auc_svm8 = roc_auc_score(test_target, svm_d_norm_pca_probs_preds)\n",
        "auc_kmc8 = roc_auc_score(test_target, kmc_d_norm_pca_probs_preds)\n",
        "auc_dt8 = roc_auc_score(test_target, dt_d_norm_pca_probs_preds)\n",
        "auc_mlp8 = roc_auc_score(test_target, mlp_d_norm_pca_probs_preds)\n",
        "\n",
        "# Créer un DataFrame avec les prédictions et les noms des modèles\n",
        "results_df_cap8 = pd.DataFrame({\n",
        "    'Model': ['Voting', 'KMD', 'SVM', 'KMC', 'Decision Tree', 'MLP'],\n",
        "    'CAP': [auc_voting8, auc_kmd8, auc_svm8, auc_kmc8, auc_dt8, auc_mlp8]\n",
        "})\n",
        "\n",
        "# Afficher le tableau des résultats\n",
        "print(results_df8)\n",
        "print(results_df_sens8)\n",
        "print(results_df_cap8)\n"
      ],
      "metadata": {
        "id": "U0xQZUsyv4FN"
      },
      "id": "U0xQZUsyv4FN",
      "execution_count": null,
      "outputs": []
    },
    {
      "cell_type": "code",
      "source": [],
      "metadata": {
        "id": "6k_XV46gxdZe"
      },
      "id": "6k_XV46gxdZe",
      "execution_count": null,
      "outputs": []
    }
  ],
  "metadata": {
    "kaggle": {
      "accelerator": "none",
      "dataSources": [
        {
          "datasetId": 174616,
          "sourceId": 394223,
          "sourceType": "datasetVersion"
        }
      ],
      "dockerImageVersionId": 30579,
      "isGpuEnabled": false,
      "isInternetEnabled": true,
      "language": "python",
      "sourceType": "notebook"
    },
    "kernelspec": {
      "display_name": "Python 3",
      "language": "python",
      "name": "python3"
    },
    "language_info": {
      "codemirror_mode": {
        "name": "ipython",
        "version": 3
      },
      "file_extension": ".py",
      "mimetype": "text/x-python",
      "name": "python",
      "nbconvert_exporter": "python",
      "pygments_lexer": "ipython3",
      "version": "3.10.12"
    },
    "papermill": {
      "default_parameters": {},
      "duration": 23438.705119,
      "end_time": "2023-11-28T21:03:23.188303",
      "environment_variables": {},
      "exception": null,
      "input_path": "__notebook__.ipynb",
      "output_path": "__notebook__.ipynb",
      "parameters": {},
      "start_time": "2023-11-28T14:32:44.483184",
      "version": "2.4.0"
    },
    "colab": {
      "provenance": []
    }
  },
  "nbformat": 4,
  "nbformat_minor": 5
}